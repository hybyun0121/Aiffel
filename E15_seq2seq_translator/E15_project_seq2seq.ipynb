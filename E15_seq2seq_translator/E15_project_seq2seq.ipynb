{
 "cells": [
  {
   "cell_type": "markdown",
   "metadata": {},
   "source": [
    "## Word-Level로 번역기 업그레이드하기\n",
    "주어진 데이터에서 상위 33,000개의 샘플만 사용.  \n",
    "33000개 중 3000개는 테스트 데이터로 분리하여 모델을 학습한 후에 번역을 테스트하는 용도로 사용.  \n",
    "  \n",
    "### Step 1. 정제, 정규화, 전처리 (영어, 프랑스어 모두)\n",
    "---\n",
    "단어 단위 번역기를 하기 위해 고려해야할 사항들  \n",
    "  \n",
    "1. 구두점(Punctuation)을 단어와 분리하기.\n",
    "   Tokenization이라고 불리는 이 작업은 어디서부터 어디까지가 하나의 단어인지를 구분하는 작업.  \n",
    "2. 소문자로 바꾸기\n",
    "3. 띄어쓰기 단위로 토큰 수정행하기"
   ]
  },
  {
   "cell_type": "code",
   "execution_count": 1,
   "metadata": {},
   "outputs": [],
   "source": [
    "#필요한 패키지 import\n",
    "#데이터 load 및 전처리\n",
    "import pandas as pd\n",
    "from tensorflow.keras.preprocessing.text import Tokenizer\n",
    "from tensorflow.keras.preprocessing.sequence import pad_sequences\n",
    "from tensorflow.keras.utils import to_categorical\n",
    "import numpy as np\n",
    "import os\n",
    "import re\n",
    "\n",
    "from nltk.tokenize import word_tokenize\n",
    "from nltk.corpus import stopwords\n"
   ]
  },
  {
   "cell_type": "code",
   "execution_count": 2,
   "metadata": {},
   "outputs": [
    {
     "name": "stdout",
     "output_type": "stream",
     "text": [
      "전체 샘플의 수 : 178009\n"
     ]
    },
    {
     "data": {
      "text/html": [
       "<div>\n",
       "<style scoped>\n",
       "    .dataframe tbody tr th:only-of-type {\n",
       "        vertical-align: middle;\n",
       "    }\n",
       "\n",
       "    .dataframe tbody tr th {\n",
       "        vertical-align: top;\n",
       "    }\n",
       "\n",
       "    .dataframe thead th {\n",
       "        text-align: right;\n",
       "    }\n",
       "</style>\n",
       "<table border=\"1\" class=\"dataframe\">\n",
       "  <thead>\n",
       "    <tr style=\"text-align: right;\">\n",
       "      <th></th>\n",
       "      <th>eng</th>\n",
       "      <th>fra</th>\n",
       "      <th>cc</th>\n",
       "    </tr>\n",
       "  </thead>\n",
       "  <tbody>\n",
       "    <tr>\n",
       "      <th>0</th>\n",
       "      <td>Go.</td>\n",
       "      <td>Va !</td>\n",
       "      <td>CC-BY 2.0 (France) Attribution: tatoeba.org #2...</td>\n",
       "    </tr>\n",
       "    <tr>\n",
       "      <th>1</th>\n",
       "      <td>Hi.</td>\n",
       "      <td>Salut !</td>\n",
       "      <td>CC-BY 2.0 (France) Attribution: tatoeba.org #5...</td>\n",
       "    </tr>\n",
       "    <tr>\n",
       "      <th>2</th>\n",
       "      <td>Hi.</td>\n",
       "      <td>Salut.</td>\n",
       "      <td>CC-BY 2.0 (France) Attribution: tatoeba.org #5...</td>\n",
       "    </tr>\n",
       "    <tr>\n",
       "      <th>3</th>\n",
       "      <td>Run!</td>\n",
       "      <td>Cours !</td>\n",
       "      <td>CC-BY 2.0 (France) Attribution: tatoeba.org #9...</td>\n",
       "    </tr>\n",
       "    <tr>\n",
       "      <th>4</th>\n",
       "      <td>Run!</td>\n",
       "      <td>Courez !</td>\n",
       "      <td>CC-BY 2.0 (France) Attribution: tatoeba.org #9...</td>\n",
       "    </tr>\n",
       "  </tbody>\n",
       "</table>\n",
       "</div>"
      ],
      "text/plain": [
       "    eng       fra                                                 cc\n",
       "0   Go.      Va !  CC-BY 2.0 (France) Attribution: tatoeba.org #2...\n",
       "1   Hi.   Salut !  CC-BY 2.0 (France) Attribution: tatoeba.org #5...\n",
       "2   Hi.    Salut.  CC-BY 2.0 (France) Attribution: tatoeba.org #5...\n",
       "3  Run!   Cours !  CC-BY 2.0 (France) Attribution: tatoeba.org #9...\n",
       "4  Run!  Courez !  CC-BY 2.0 (France) Attribution: tatoeba.org #9..."
      ]
     },
     "execution_count": 2,
     "metadata": {},
     "output_type": "execute_result"
    }
   ],
   "source": [
    "file_path = os.getenv('HOME')+'/aiffel/translator_seq2seq/data/fra.txt'\n",
    "lines = pd.read_csv(file_path, names=['eng', 'fra', 'cc'], sep='\\t')\n",
    "print('전체 샘플의 수 :',len(lines))\n",
    "lines.head()"
   ]
  },
  {
   "cell_type": "code",
   "execution_count": 3,
   "metadata": {},
   "outputs": [
    {
     "data": {
      "text/html": [
       "<div>\n",
       "<style scoped>\n",
       "    .dataframe tbody tr th:only-of-type {\n",
       "        vertical-align: middle;\n",
       "    }\n",
       "\n",
       "    .dataframe tbody tr th {\n",
       "        vertical-align: top;\n",
       "    }\n",
       "\n",
       "    .dataframe thead th {\n",
       "        text-align: right;\n",
       "    }\n",
       "</style>\n",
       "<table border=\"1\" class=\"dataframe\">\n",
       "  <thead>\n",
       "    <tr style=\"text-align: right;\">\n",
       "      <th></th>\n",
       "      <th>eng</th>\n",
       "      <th>fra</th>\n",
       "      <th>cc</th>\n",
       "    </tr>\n",
       "  </thead>\n",
       "  <tbody>\n",
       "    <tr>\n",
       "      <th>139797</th>\n",
       "      <td>I've heard that name somewhere before.</td>\n",
       "      <td>J'ai déjà entendu ce nom quelque part.</td>\n",
       "      <td>CC-BY 2.0 (France) Attribution: tatoeba.org #2...</td>\n",
       "    </tr>\n",
       "    <tr>\n",
       "      <th>145634</th>\n",
       "      <td>How did you happen to see them doing it?</td>\n",
       "      <td>Comment se fait-il que vous les ayez vues en t...</td>\n",
       "      <td>CC-BY 2.0 (France) Attribution: tatoeba.org #3...</td>\n",
       "    </tr>\n",
       "    <tr>\n",
       "      <th>16201</th>\n",
       "      <td>Say it in French.</td>\n",
       "      <td>Dites-le en français.</td>\n",
       "      <td>CC-BY 2.0 (France) Attribution: tatoeba.org #3...</td>\n",
       "    </tr>\n",
       "    <tr>\n",
       "      <th>7947</th>\n",
       "      <td>I felt cheated.</td>\n",
       "      <td>Je me suis sentie trompée.</td>\n",
       "      <td>CC-BY 2.0 (France) Attribution: tatoeba.org #2...</td>\n",
       "    </tr>\n",
       "    <tr>\n",
       "      <th>47201</th>\n",
       "      <td>Don't be so hard on me.</td>\n",
       "      <td>Ne soyez pas si dure envers moi.</td>\n",
       "      <td>CC-BY 2.0 (France) Attribution: tatoeba.org #6...</td>\n",
       "    </tr>\n",
       "  </tbody>\n",
       "</table>\n",
       "</div>"
      ],
      "text/plain": [
       "                                             eng  \\\n",
       "139797    I've heard that name somewhere before.   \n",
       "145634  How did you happen to see them doing it?   \n",
       "16201                          Say it in French.   \n",
       "7947                             I felt cheated.   \n",
       "47201                    Don't be so hard on me.   \n",
       "\n",
       "                                                      fra  \\\n",
       "139797             J'ai déjà entendu ce nom quelque part.   \n",
       "145634  Comment se fait-il que vous les ayez vues en t...   \n",
       "16201                               Dites-le en français.   \n",
       "7947                           Je me suis sentie trompée.   \n",
       "47201                    Ne soyez pas si dure envers moi.   \n",
       "\n",
       "                                                       cc  \n",
       "139797  CC-BY 2.0 (France) Attribution: tatoeba.org #2...  \n",
       "145634  CC-BY 2.0 (France) Attribution: tatoeba.org #3...  \n",
       "16201   CC-BY 2.0 (France) Attribution: tatoeba.org #3...  \n",
       "7947    CC-BY 2.0 (France) Attribution: tatoeba.org #2...  \n",
       "47201   CC-BY 2.0 (France) Attribution: tatoeba.org #6...  "
      ]
     },
     "execution_count": 3,
     "metadata": {},
     "output_type": "execute_result"
    }
   ],
   "source": [
    "lines.sample(5)"
   ]
  },
  {
   "cell_type": "code",
   "execution_count": 4,
   "metadata": {
    "scrolled": false
   },
   "outputs": [
    {
     "data": {
      "text/html": [
       "<div>\n",
       "<style scoped>\n",
       "    .dataframe tbody tr th:only-of-type {\n",
       "        vertical-align: middle;\n",
       "    }\n",
       "\n",
       "    .dataframe tbody tr th {\n",
       "        vertical-align: top;\n",
       "    }\n",
       "\n",
       "    .dataframe thead th {\n",
       "        text-align: right;\n",
       "    }\n",
       "</style>\n",
       "<table border=\"1\" class=\"dataframe\">\n",
       "  <thead>\n",
       "    <tr style=\"text-align: right;\">\n",
       "      <th></th>\n",
       "      <th>eng</th>\n",
       "      <th>fra</th>\n",
       "    </tr>\n",
       "  </thead>\n",
       "  <tbody>\n",
       "    <tr>\n",
       "      <th>11310</th>\n",
       "      <td>I remembered it.</td>\n",
       "      <td>Je m'en souvenais.</td>\n",
       "    </tr>\n",
       "    <tr>\n",
       "      <th>4465</th>\n",
       "      <td>They're dead.</td>\n",
       "      <td>Elles sont décédées.</td>\n",
       "    </tr>\n",
       "    <tr>\n",
       "      <th>31528</th>\n",
       "      <td>She turned him down.</td>\n",
       "      <td>Elle l'a éconduit.</td>\n",
       "    </tr>\n",
       "    <tr>\n",
       "      <th>29250</th>\n",
       "      <td>His novel sold well.</td>\n",
       "      <td>Son roman se vendit bien.</td>\n",
       "    </tr>\n",
       "    <tr>\n",
       "      <th>28450</th>\n",
       "      <td>Did I tell you that?</td>\n",
       "      <td>Vous ai-je conté cela ?</td>\n",
       "    </tr>\n",
       "  </tbody>\n",
       "</table>\n",
       "</div>"
      ],
      "text/plain": [
       "                        eng                        fra\n",
       "11310      I remembered it.         Je m'en souvenais.\n",
       "4465          They're dead.       Elles sont décédées.\n",
       "31528  She turned him down.         Elle l'a éconduit.\n",
       "29250  His novel sold well.  Son roman se vendit bien.\n",
       "28450  Did I tell you that?    Vous ai-je conté cela ?"
      ]
     },
     "execution_count": 4,
     "metadata": {},
     "output_type": "execute_result"
    }
   ],
   "source": [
    "#학습에 사용할 상위 33000개의 데이터만 뽑아 온다.\n",
    "lines = lines[['eng', 'fra']][:33000]\n",
    "lines.sample(5)"
   ]
  },
  {
   "cell_type": "code",
   "execution_count": 5,
   "metadata": {
    "scrolled": true
   },
   "outputs": [],
   "source": [
    "def preprocess_sentence(sent):\n",
    "    sent = sent.lower()\n",
    "    #단어와 구두점 사이 공백\n",
    "    sent = re.sub(r\"([?.!])\",r\" \\1 \", sent)\n",
    "    \n",
    "    #남길 단어 이외 단어들은 전부 공백(한 칸 띄어쓰기)\n",
    "    sent = re.sub(r\"[^a-zA-Z?.!]+\", r\" \", sent)\n",
    "    \n",
    "    #공백 관리하기\n",
    "    sent = re.sub(r'\\s+', \" \", sent)\n",
    "    sent = sent.strip()\n",
    "    \n",
    "    return sent"
   ]
  },
  {
   "cell_type": "code",
   "execution_count": 6,
   "metadata": {},
   "outputs": [
    {
     "name": "stdout",
     "output_type": "stream",
     "text": [
      "have you had dinner ?\n",
      "b'avez vous d j din ?'\n"
     ]
    }
   ],
   "source": [
    "# 전처리 테스트\n",
    "en_sent = u\"Have you had dinner?\"\n",
    "fr_sent = u\"Avez-vous déjà diné?\"\n",
    "print(preprocess_sentence(en_sent))\n",
    "print(preprocess_sentence(fr_sent).encode('utf-8'))"
   ]
  },
  {
   "cell_type": "code",
   "execution_count": 7,
   "metadata": {},
   "outputs": [],
   "source": [
    "encoder_input = [preprocess_sentence(x).split() for x in lines.eng]"
   ]
  },
  {
   "cell_type": "code",
   "execution_count": 8,
   "metadata": {},
   "outputs": [
    {
     "data": {
      "text/plain": [
       "33000"
      ]
     },
     "execution_count": 8,
     "metadata": {},
     "output_type": "execute_result"
    }
   ],
   "source": [
    "len(encoder_input)"
   ]
  },
  {
   "cell_type": "code",
   "execution_count": 9,
   "metadata": {},
   "outputs": [],
   "source": [
    "fra_sent = [preprocess_sentence(x) for x in lines.fra]"
   ]
  },
  {
   "cell_type": "code",
   "execution_count": 10,
   "metadata": {
    "scrolled": true
   },
   "outputs": [
    {
     "data": {
      "text/plain": [
       "['<sos>', 'va', '!']"
      ]
     },
     "execution_count": 10,
     "metadata": {},
     "output_type": "execute_result"
    }
   ],
   "source": [
    "a = [w for w in (\"<sos> \" + fra_sent[0]).split()]\n",
    "a"
   ]
  },
  {
   "cell_type": "markdown",
   "metadata": {},
   "source": [
    "### Step 2. 디코더의 문장에서 시작 토큰과 종료 토큰 넣기\n",
    "---\n",
    "디코더의 입력 시퀀스 맨 앞에는 시작을 의미하는 토큰이 필요하다. 그리고 교사 강요를 수행할 때, 디코더의 실제값이 되는 디코더의 레이블 시퀀스에는 종료를 의미하는 종료 토큰이 필요하다."
   ]
  },
  {
   "cell_type": "code",
   "execution_count": 11,
   "metadata": {},
   "outputs": [],
   "source": [
    "def teacher_forcing(sents):\n",
    "    '''\n",
    "    target sentence에 대하여\n",
    "    decoder_input => decoder input : <sos> + sentence 와\n",
    "    decoder_target => target line : sentence + <eos>를 생성\n",
    "    '''\n",
    "    decoder_input, decoder_target = [], []\n",
    "    \n",
    "    for sent in sents:\n",
    "        tar_line_input = [w for w in (\"<sos> \" + sent).split()]\n",
    "        decoder_input.append(tar_line_input)\n",
    "        \n",
    "        tar_line_target = [w for w in (sent + \" <eos>\").split()]\n",
    "        decoder_target.append(tar_line_target)\n",
    "        \n",
    "    return decoder_input, decoder_target"
   ]
  },
  {
   "cell_type": "code",
   "execution_count": 12,
   "metadata": {},
   "outputs": [],
   "source": [
    "decoder_input, decoder_target = teacher_forcing(fra_sent)"
   ]
  },
  {
   "cell_type": "code",
   "execution_count": 13,
   "metadata": {
    "scrolled": true
   },
   "outputs": [
    {
     "name": "stdout",
     "output_type": "stream",
     "text": [
      "[['go', '.'], ['hi', '.'], ['hi', '.'], ['run', '!'], ['run', '!']]\n",
      "[['<sos>', 'va', '!'], ['<sos>', 'salut', '!'], ['<sos>', 'salut', '.'], ['<sos>', 'cours', '!'], ['<sos>', 'courez', '!']]\n",
      "[['va', '!', '<eos>'], ['salut', '!', '<eos>'], ['salut', '.', '<eos>'], ['cours', '!', '<eos>'], ['courez', '!', '<eos>']]\n"
     ]
    }
   ],
   "source": [
    "print(encoder_input[:5])\n",
    "print(decoder_input[:5])\n",
    "print(decoder_target[:5])"
   ]
  },
  {
   "cell_type": "markdown",
   "metadata": {},
   "source": [
    "## Step 3. 케라스의 토크나이저로 텍스트를 숫자로 바꾸자.\n",
    "---\n",
    "참고 : https://wikidocs.net/31766  \n",
    "  \n",
    "위 링크의 가이드를 통해서 영어와 프랑스어에 대한 토크나이저를 각각 생성하고,  \n",
    "tokenizer.texts_to_sequences()를 사용하여 모든 샘플에 대해서 정수 시퀀스로 변환해보자."
   ]
  },
  {
   "cell_type": "code",
   "execution_count": 14,
   "metadata": {},
   "outputs": [],
   "source": [
    "def tokenize(encoder_input,decoder_input,decoder_target, _type='encoder'):\n",
    "    tokenizer = Tokenizer(filters=\"\",\n",
    "                         lower=False, oov_token=\"<unk>\")\n",
    "    \n",
    "    if _type == 'encoder':\n",
    "        tokenizer.fit_on_texts(encoder_input)\n",
    "        tensor = tokenizer.texts_to_sequences(encoder_input)\n",
    "        tensor = pad_sequences(tensor, padding='post')\n",
    "        return tensor, tokenizer\n",
    "    \n",
    "    elif _type == 'decoder':\n",
    "        tokenizer.fit_on_texts(decoder_input)\n",
    "        tokenizer.fit_on_texts(decoder_target)\n",
    "        dec_tensor = tokenizer.texts_to_sequences(decoder_input)\n",
    "        tar_tensor = tokenizer.texts_to_sequences(decoder_target)\n",
    "        dec_tensor = pad_sequences(dec_tensor, padding='post')\n",
    "        tar_tensor = pad_sequences(tar_tensor, padding='post')\n",
    "        return dec_tensor, tar_tensor, tokenizer"
   ]
  },
  {
   "cell_type": "code",
   "execution_count": 15,
   "metadata": {},
   "outputs": [],
   "source": [
    "eng2vector, tokenizer_eng = tokenize(encoder_input,decoder_input, decoder_target,_type='encoder')"
   ]
  },
  {
   "cell_type": "code",
   "execution_count": 16,
   "metadata": {},
   "outputs": [],
   "source": [
    "dec2vector, tar2vector, tokenizer_fra = tokenize(encoder_input,decoder_input, decoder_target,_type='decoder')"
   ]
  },
  {
   "cell_type": "code",
   "execution_count": 17,
   "metadata": {},
   "outputs": [
    {
     "name": "stdout",
     "output_type": "stream",
     "text": [
      "(33000, 8)\n",
      "(33000, 16)\n",
      "(33000, 16)\n"
     ]
    }
   ],
   "source": [
    "#토큰화된 eng, fra_dec, fra_target shape 확인하기\n",
    "print(np.shape(eng2vector))\n",
    "print(np.shape(dec2vector))\n",
    "print(np.shape(tar2vector))"
   ]
  },
  {
   "cell_type": "markdown",
   "metadata": {},
   "source": [
    ">샘플은 총 33,000개 존재하며 영어 문장의 길이는 8, 프랑스어 문장의 길이는 16이다. 단어 집합의 크기를 정의한다.  \n",
    "<a herf=\"https://wikidocs.net/86900\">2) Word-Level 번역기 만들기(Neural Machine Translation (seq2seq) Tutorial)</a>"
   ]
  },
  {
   "cell_type": "code",
   "execution_count": 18,
   "metadata": {
    "scrolled": true
   },
   "outputs": [
    {
     "name": "stdout",
     "output_type": "stream",
     "text": [
      "영어 단어 집합의 크기 : 4663, 프랑스어 단어 집합의 크기 : 7327\n"
     ]
    }
   ],
   "source": [
    "src_vocab_size = len(tokenizer_eng.word_index) +1\n",
    "tar_vocab_size = len(tokenizer_fra.word_index) +1\n",
    "print(\"영어 단어 집합의 크기 : {:d}, 프랑스어 단어 집합의 크기 : {:d}\".format(src_vocab_size, tar_vocab_size))"
   ]
  },
  {
   "cell_type": "code",
   "execution_count": 19,
   "metadata": {},
   "outputs": [],
   "source": [
    "#dictionary_1 : key(word) : value(num)\n",
    "#dictionary_2 : key(num) : value(word)\n",
    "#딕셔너리 타입으로 단어와 토큰, 토큰과 단어가 연결되어 있는 사전을 미리 받아두자\n",
    "\n",
    "src_to_index = tokenizer_eng.word_index\n",
    "index_to_src = tokenizer_eng.index_word # 훈련 후 결과 비교할 때 사용\n",
    "\n",
    "tar_to_index = tokenizer_fra.word_index # 훈련 후 예측 과정에서 사용\n",
    "index_to_tar = tokenizer_fra.index_word # 훈련 후 결과 비교할 때 사용"
   ]
  },
  {
   "cell_type": "markdown",
   "metadata": {},
   "source": [
    ">테스트 데이터를 분리할 차례이다. 테스트 데이터를 분리하기 전에, 적절한 분포를 갖도록 데이터를 섞어주는 과정을 진행한다. 이를 위해서 우선 순서가 섞인 정수 시퀀스 리스트를 만든다.  \n",
    "  \n",
    "왜냐하면 우리는 데이터셋 상위 33,000개의 데이터를 가져왔기 때문에 데이터셋 순서대로 학습을 시키는 것은 모델이 loss를 minimize하는 것을 힘들게 한다. 힘든건 나로 충분하니까 데이터를 잘 섞어주자.  \n",
    "  \n",
    "<a href=https://datascience.stackexchange.com/questions/24511/why-should-the-data-be-shuffled-for-machine-learning-tasks>Why should the data be shuffled for machine learning tasks</a>"
   ]
  },
  {
   "cell_type": "code",
   "execution_count": 20,
   "metadata": {},
   "outputs": [
    {
     "name": "stdout",
     "output_type": "stream",
     "text": [
      "[10191 10713 31923 ... 26475 14406 18229]\n"
     ]
    }
   ],
   "source": [
    "indices = np.arange(eng2vector.shape[0])\n",
    "np.random.shuffle(indices)\n",
    "print(indices)"
   ]
  },
  {
   "cell_type": "code",
   "execution_count": 21,
   "metadata": {},
   "outputs": [],
   "source": [
    "eng2vector = eng2vector[indices]\n",
    "dec2vector = dec2vector[indices]\n",
    "tar2vector = tar2vector[indices]"
   ]
  },
  {
   "cell_type": "code",
   "execution_count": 22,
   "metadata": {
    "scrolled": true
   },
   "outputs": [
    {
     "name": "stdout",
     "output_type": "stream",
     "text": [
      "[23  4 97 42  5  0  0  0]\n",
      "[   3    6   29   34    8 1277   65    7    0    0    0    0    0    0\n",
      "    0    0]\n",
      "[   6   29   34    8 1277   65    7    4    0    0    0    0    0    0\n",
      "    0    0]\n"
     ]
    }
   ],
   "source": [
    "#셔플링이 잘 이루어졌는지 확인해보자\n",
    "print(eng2vector[28256])\n",
    "print(dec2vector[28256])\n",
    "print(tar2vector[28256])"
   ]
  },
  {
   "cell_type": "code",
   "execution_count": 23,
   "metadata": {},
   "outputs": [
    {
     "name": "stdout",
     "output_type": "stream",
     "text": [
      "3300\n"
     ]
    }
   ],
   "source": [
    "#데이터셋 10%를 테스트 데이터로 분리하기\n",
    "num_of_testset = int(33000*0.1)\n",
    "print(num_of_testset)"
   ]
  },
  {
   "cell_type": "code",
   "execution_count": 24,
   "metadata": {},
   "outputs": [],
   "source": [
    "eng2vector_train = eng2vector[:-num_of_testset]\n",
    "dec2vector_train = dec2vector[:-num_of_testset]\n",
    "tar2vector_train = tar2vector[:-num_of_testset]\n",
    "\n",
    "eng2vector_test = eng2vector[-num_of_testset:]\n",
    "dec2vector_test = dec2vector[-num_of_testset:]\n",
    "tar2vector_test = tar2vector[-num_of_testset:]"
   ]
  },
  {
   "cell_type": "code",
   "execution_count": 25,
   "metadata": {},
   "outputs": [
    {
     "name": "stdout",
     "output_type": "stream",
     "text": [
      "(29700, 8)\n",
      "(29700, 16)\n",
      "(29700, 16)\n",
      "(3300, 8)\n",
      "(3300, 16)\n",
      "(3300, 16)\n"
     ]
    }
   ],
   "source": [
    "print(eng2vector_train.shape)\n",
    "print(dec2vector_train.shape)\n",
    "print(tar2vector_train.shape)\n",
    "print(eng2vector_test.shape)\n",
    "print(dec2vector_test.shape)\n",
    "print(tar2vector_test.shape)"
   ]
  },
  {
   "cell_type": "markdown",
   "metadata": {},
   "source": [
    "### Step 4. 임베딩 층 (Embedding layer)사용하기\n",
    "---\n",
    "1. 케라스 임베딩 층(keras Embedding layer) 참고하기\n",
    "https://wikidocs.net/33793  \n",
    "  \n",
    "```python\n",
    "from tensorflow.keras.layers import Input, Embedding, Masking\n",
    "\n",
    "# 인코더에서 사용할 임베딩 층 사용 예시\n",
    "encoder_inputs = Input(shape=(None,))\n",
    "enc_emb =  Embedding(단어장의 크기, 임베딩 벡터의 차원)(encoder_inputs)\n",
    "encoder_lstm = LSTM(hidden state의 크기, return_state=True)\n",
    "encoder_outputs, state_h, state_c = encoder_lstm(enc_emb)\n",
    "```  \n",
    "  \n",
    "주의할 점은 인코더와 디코더의 임베딩 층은 서로 다른 임베딩 층을 사용해야하지만,  \n",
    "디코더의 훈련 과정과 테스트 과정(예측 과정)에서의 임베딩 층은 동일해야한다."
   ]
  },
  {
   "cell_type": "markdown",
   "metadata": {},
   "source": [
    "### import"
   ]
  },
  {
   "cell_type": "code",
   "execution_count": 26,
   "metadata": {},
   "outputs": [],
   "source": [
    "from tensorflow.keras.layers import Input, LSTM, Embedding, Dense, Masking\n",
    "from tensorflow.keras.models import Model\n",
    "from tensorflow.keras.callbacks import LearningRateScheduler\n",
    "from tensorflow.keras.callbacks import ModelCheckpoint\n",
    "from tensorflow.keras.callbacks import EarlyStopping\n",
    "from CosineAnnealing import CosineAnnealingScheduler"
   ]
  },
  {
   "cell_type": "code",
   "execution_count": 129,
   "metadata": {},
   "outputs": [],
   "source": [
    "latent_dim = 250\n",
    "epochs = 100"
   ]
  },
  {
   "cell_type": "code",
   "execution_count": 130,
   "metadata": {},
   "outputs": [],
   "source": [
    "#model checkpoint\n",
    "import os\n",
    "\n",
    "chekpoint_filepath = os.getenv('HOME') + '/project/E15/tmp/chekpoint'\n",
    "model_checkpoint_callback = ModelCheckpoint(\n",
    "                            filepath = chekpoint_filepath,\n",
    "                            monitor='val_acc',\n",
    "                            save_weights_only=True,\n",
    "                            mode='max',\n",
    "                            save_freq='epoch')"
   ]
  },
  {
   "cell_type": "code",
   "execution_count": 131,
   "metadata": {},
   "outputs": [],
   "source": [
    "earlystopping_callback = EarlyStopping(monitor='val_acc',\n",
    "                                      patience=10,\n",
    "                                      mode='auto')"
   ]
  },
  {
   "cell_type": "code",
   "execution_count": 132,
   "metadata": {},
   "outputs": [],
   "source": [
    "scheduler_callback = CosineAnnealingScheduler(T_max=epochs, eta_max=0.05, eta_min=1e-2, verbose=1)"
   ]
  },
  {
   "cell_type": "code",
   "execution_count": 162,
   "metadata": {},
   "outputs": [],
   "source": [
    "callback = [model_checkpoint_callback]"
   ]
  },
  {
   "cell_type": "code",
   "execution_count": 163,
   "metadata": {},
   "outputs": [],
   "source": [
    "# 인코더\n",
    "encoder_inputs = Input(shape=(None,))\n",
    "enc_emb =  Embedding(src_vocab_size, latent_dim)(encoder_inputs) # 임베딩 층\n",
    "enc_masking = Masking(mask_value=0.0)(enc_emb) # 패딩 0은 연산에서 제외\n",
    "encoder_lstm = LSTM(latent_dim, return_state=True) # 상태값 리턴을 위해 return_state는 True\n",
    "encoder_outputs, state_h, state_c = encoder_lstm(enc_masking) # 은닉 상태와 셀 상태를 리턴\n",
    "encoder_states = [state_h, state_c] # 인코더의 은닉 상태와 셀 상태를 저장"
   ]
  },
  {
   "cell_type": "code",
   "execution_count": 164,
   "metadata": {},
   "outputs": [],
   "source": [
    "#디코더\n",
    "decoder_inputs = Input(shape=(None,))\n",
    "dec_emb_layer = Embedding(tar_vocab_size, latent_dim) # 임베딩 층\n",
    "dec_emb = dec_emb_layer(decoder_inputs) # 패딩 0은 연산에서 제외\n",
    "dec_masking = Masking(mask_value=0.0)(dec_emb)\n",
    "\n",
    "# 상태값 리턴을 위해 return_state는 True, 모든 시점에 대해서 단어를 예측하기 위해 return_sequences는 True\n",
    "decoder_lstm = LSTM(latent_dim, return_sequences=True, return_state=True) \n",
    "\n",
    "# 인코더의 은닉 상태를 초기 은닉 상태(initial_state)로 사용\n",
    "decoder_outputs, _, _ = decoder_lstm(dec_masking,\n",
    "                                     initial_state=encoder_states)\n",
    "\n",
    "# 모든 시점의 결과에 대해서 소프트맥스 함수를 사용한 출력층을 통해 단어 예측\n",
    "decoder_dense = Dense(tar_vocab_size, activation='softmax')\n",
    "decoder_outputs = decoder_dense(decoder_outputs)"
   ]
  },
  {
   "cell_type": "markdown",
   "metadata": {},
   "source": [
    "### Step 5 모델 구현하기\n",
    "---\n",
    "글자 단위 번역기에서 구현한 모델을 참고로 단어 단위 번역기의 모델을 완성해보자."
   ]
  },
  {
   "cell_type": "code",
   "execution_count": 165,
   "metadata": {},
   "outputs": [],
   "source": [
    "model = Model([encoder_inputs, decoder_inputs], decoder_outputs)"
   ]
  },
  {
   "cell_type": "code",
   "execution_count": 166,
   "metadata": {},
   "outputs": [],
   "source": [
    "model.compile(optimizer='rmsprop', loss='sparse_categorical_crossentropy',\n",
    "             metrics=['acc'])"
   ]
  },
  {
   "cell_type": "code",
   "execution_count": 167,
   "metadata": {
    "scrolled": false
   },
   "outputs": [
    {
     "name": "stdout",
     "output_type": "stream",
     "text": [
      "Model: \"functional_25\"\n",
      "__________________________________________________________________________________________________\n",
      "Layer (type)                    Output Shape         Param #     Connected to                     \n",
      "==================================================================================================\n",
      "input_23 (InputLayer)           [(None, None)]       0                                            \n",
      "__________________________________________________________________________________________________\n",
      "input_24 (InputLayer)           [(None, None)]       0                                            \n",
      "__________________________________________________________________________________________________\n",
      "embedding_20 (Embedding)        (None, None, 250)    1165750     input_23[0][0]                   \n",
      "__________________________________________________________________________________________________\n",
      "embedding_21 (Embedding)        (None, None, 250)    1831750     input_24[0][0]                   \n",
      "__________________________________________________________________________________________________\n",
      "masking_20 (Masking)            (None, None, 250)    0           embedding_20[0][0]               \n",
      "__________________________________________________________________________________________________\n",
      "masking_21 (Masking)            (None, None, 250)    0           embedding_21[0][0]               \n",
      "__________________________________________________________________________________________________\n",
      "lstm_20 (LSTM)                  [(None, 250), (None, 501000      masking_20[0][0]                 \n",
      "__________________________________________________________________________________________________\n",
      "lstm_21 (LSTM)                  [(None, None, 250),  501000      masking_21[0][0]                 \n",
      "                                                                 lstm_20[0][1]                    \n",
      "                                                                 lstm_20[0][2]                    \n",
      "__________________________________________________________________________________________________\n",
      "dense_10 (Dense)                (None, None, 7327)   1839077     lstm_21[0][0]                    \n",
      "==================================================================================================\n",
      "Total params: 5,838,577\n",
      "Trainable params: 5,838,577\n",
      "Non-trainable params: 0\n",
      "__________________________________________________________________________________________________\n"
     ]
    }
   ],
   "source": [
    "model.summary()"
   ]
  },
  {
   "cell_type": "code",
   "execution_count": 168,
   "metadata": {
    "collapsed": true
   },
   "outputs": [
    {
     "name": "stdout",
     "output_type": "stream",
     "text": [
      "Epoch 1/100\n",
      "233/233 [==============================] - 11s 48ms/step - loss: 2.0404 - acc: 0.6849 - val_loss: 1.6444 - val_acc: 0.7348\n",
      "Epoch 2/100\n",
      "233/233 [==============================] - 10s 42ms/step - loss: 1.4782 - acc: 0.7567 - val_loss: 1.3709 - val_acc: 0.7777\n",
      "Epoch 3/100\n",
      "233/233 [==============================] - 10s 44ms/step - loss: 1.2571 - acc: 0.7901 - val_loss: 1.2288 - val_acc: 0.7953\n",
      "Epoch 4/100\n",
      "233/233 [==============================] - 10s 43ms/step - loss: 1.1239 - acc: 0.8087 - val_loss: 1.1268 - val_acc: 0.8098\n",
      "Epoch 5/100\n",
      "233/233 [==============================] - 10s 43ms/step - loss: 1.0237 - acc: 0.8214 - val_loss: 1.0616 - val_acc: 0.8202\n",
      "Epoch 6/100\n",
      "233/233 [==============================] - 10s 42ms/step - loss: 0.9433 - acc: 0.8319 - val_loss: 1.0274 - val_acc: 0.8220\n",
      "Epoch 7/100\n",
      "233/233 [==============================] - 10s 42ms/step - loss: 0.8746 - acc: 0.8411 - val_loss: 0.9505 - val_acc: 0.8354\n",
      "Epoch 8/100\n",
      "233/233 [==============================] - 10s 42ms/step - loss: 0.8156 - acc: 0.8490 - val_loss: 0.9153 - val_acc: 0.8409\n",
      "Epoch 9/100\n",
      "233/233 [==============================] - 10s 42ms/step - loss: 0.7649 - acc: 0.8565 - val_loss: 0.9095 - val_acc: 0.8375\n",
      "Epoch 10/100\n",
      "233/233 [==============================] - 10s 44ms/step - loss: 0.7186 - acc: 0.8637 - val_loss: 0.8788 - val_acc: 0.8457\n",
      "Epoch 11/100\n",
      "233/233 [==============================] - 10s 43ms/step - loss: 0.6773 - acc: 0.8702 - val_loss: 0.8315 - val_acc: 0.8523\n",
      "Epoch 12/100\n",
      "233/233 [==============================] - 10s 43ms/step - loss: 0.6406 - acc: 0.8762 - val_loss: 0.8134 - val_acc: 0.8558\n",
      "Epoch 13/100\n",
      "233/233 [==============================] - 10s 45ms/step - loss: 0.6064 - acc: 0.8827 - val_loss: 0.8004 - val_acc: 0.8576\n",
      "Epoch 14/100\n",
      "233/233 [==============================] - 11s 48ms/step - loss: 0.5755 - acc: 0.8885 - val_loss: 0.7958 - val_acc: 0.8578\n",
      "Epoch 15/100\n",
      "233/233 [==============================] - 10s 44ms/step - loss: 0.5469 - acc: 0.8936 - val_loss: 0.7714 - val_acc: 0.8627\n",
      "Epoch 16/100\n",
      "233/233 [==============================] - 10s 44ms/step - loss: 0.5197 - acc: 0.8986 - val_loss: 0.7559 - val_acc: 0.8651\n",
      "Epoch 17/100\n",
      "233/233 [==============================] - 10s 44ms/step - loss: 0.4947 - acc: 0.9033 - val_loss: 0.7553 - val_acc: 0.8649\n",
      "Epoch 18/100\n",
      "233/233 [==============================] - 10s 44ms/step - loss: 0.4718 - acc: 0.9076 - val_loss: 0.7466 - val_acc: 0.8666\n",
      "Epoch 19/100\n",
      "233/233 [==============================] - 10s 45ms/step - loss: 0.4503 - acc: 0.9115 - val_loss: 0.7407 - val_acc: 0.8678\n",
      "Epoch 20/100\n",
      "233/233 [==============================] - 10s 44ms/step - loss: 0.4308 - acc: 0.9157 - val_loss: 0.7264 - val_acc: 0.8704\n",
      "Epoch 21/100\n",
      "233/233 [==============================] - 10s 44ms/step - loss: 0.4126 - acc: 0.9190 - val_loss: 0.7547 - val_acc: 0.8664\n",
      "Epoch 22/100\n",
      "233/233 [==============================] - 10s 44ms/step - loss: 0.3963 - acc: 0.9225 - val_loss: 0.7297 - val_acc: 0.8697\n",
      "Epoch 23/100\n",
      "233/233 [==============================] - 10s 44ms/step - loss: 0.3807 - acc: 0.9253 - val_loss: 0.7321 - val_acc: 0.8707\n",
      "Epoch 24/100\n",
      "233/233 [==============================] - 10s 44ms/step - loss: 0.3677 - acc: 0.9281 - val_loss: 0.7207 - val_acc: 0.8732\n",
      "Epoch 25/100\n",
      "233/233 [==============================] - 10s 44ms/step - loss: 0.3540 - acc: 0.9305 - val_loss: 0.7176 - val_acc: 0.8735\n",
      "Epoch 26/100\n",
      "233/233 [==============================] - 10s 44ms/step - loss: 0.3414 - acc: 0.9330 - val_loss: 0.7196 - val_acc: 0.8746\n",
      "Epoch 27/100\n",
      "233/233 [==============================] - 10s 44ms/step - loss: 0.3300 - acc: 0.9352 - val_loss: 0.7220 - val_acc: 0.8743\n",
      "Epoch 28/100\n",
      "233/233 [==============================] - 10s 44ms/step - loss: 0.3199 - acc: 0.9369 - val_loss: 0.7231 - val_acc: 0.8733\n",
      "Epoch 29/100\n",
      "233/233 [==============================] - 10s 44ms/step - loss: 0.3116 - acc: 0.9388 - val_loss: 0.7193 - val_acc: 0.8747\n",
      "Epoch 30/100\n",
      "233/233 [==============================] - 10s 44ms/step - loss: 0.3024 - acc: 0.9405 - val_loss: 0.7207 - val_acc: 0.8750\n",
      "Epoch 31/100\n",
      "233/233 [==============================] - 11s 46ms/step - loss: 0.2945 - acc: 0.9420 - val_loss: 0.7217 - val_acc: 0.8746\n",
      "Epoch 32/100\n",
      "233/233 [==============================] - 11s 47ms/step - loss: 0.2866 - acc: 0.9434 - val_loss: 0.7186 - val_acc: 0.8759\n",
      "Epoch 33/100\n",
      "233/233 [==============================] - 10s 45ms/step - loss: 0.2797 - acc: 0.9444 - val_loss: 0.7291 - val_acc: 0.8740\n",
      "Epoch 34/100\n",
      "233/233 [==============================] - 10s 43ms/step - loss: 0.2729 - acc: 0.9455 - val_loss: 0.7210 - val_acc: 0.8753\n",
      "Epoch 35/100\n",
      "233/233 [==============================] - 10s 44ms/step - loss: 0.2665 - acc: 0.9469 - val_loss: 0.7257 - val_acc: 0.8761\n",
      "Epoch 36/100\n",
      "233/233 [==============================] - 10s 43ms/step - loss: 0.2610 - acc: 0.9477 - val_loss: 0.7215 - val_acc: 0.8752\n",
      "Epoch 37/100\n",
      "233/233 [==============================] - 10s 43ms/step - loss: 0.2552 - acc: 0.9489 - val_loss: 0.7279 - val_acc: 0.8757\n",
      "Epoch 38/100\n",
      "233/233 [==============================] - 11s 46ms/step - loss: 0.2497 - acc: 0.9495 - val_loss: 0.7273 - val_acc: 0.8744\n",
      "Epoch 39/100\n",
      "233/233 [==============================] - 10s 45ms/step - loss: 0.2448 - acc: 0.9504 - val_loss: 0.7241 - val_acc: 0.8755\n",
      "Epoch 40/100\n",
      "233/233 [==============================] - 10s 45ms/step - loss: 0.2402 - acc: 0.9512 - val_loss: 0.7339 - val_acc: 0.8742\n",
      "Epoch 41/100\n",
      "233/233 [==============================] - 11s 45ms/step - loss: 0.2361 - acc: 0.9519 - val_loss: 0.7245 - val_acc: 0.8767\n",
      "Epoch 42/100\n",
      "233/233 [==============================] - 10s 44ms/step - loss: 0.2326 - acc: 0.9522 - val_loss: 0.7307 - val_acc: 0.8743\n",
      "Epoch 43/100\n",
      "233/233 [==============================] - 10s 43ms/step - loss: 0.2287 - acc: 0.9530 - val_loss: 0.7339 - val_acc: 0.8750\n",
      "Epoch 44/100\n",
      "233/233 [==============================] - 10s 44ms/step - loss: 0.2258 - acc: 0.9533 - val_loss: 0.7331 - val_acc: 0.8750\n",
      "Epoch 45/100\n",
      "233/233 [==============================] - 10s 44ms/step - loss: 0.2230 - acc: 0.9533 - val_loss: 0.7315 - val_acc: 0.8767\n",
      "Epoch 46/100\n",
      "233/233 [==============================] - 10s 43ms/step - loss: 0.2197 - acc: 0.9539 - val_loss: 0.7342 - val_acc: 0.8745\n",
      "Epoch 47/100\n",
      "233/233 [==============================] - 10s 43ms/step - loss: 0.2165 - acc: 0.9543 - val_loss: 0.7325 - val_acc: 0.8752\n",
      "Epoch 48/100\n",
      "233/233 [==============================] - 10s 42ms/step - loss: 0.2133 - acc: 0.9548 - val_loss: 0.7363 - val_acc: 0.8750\n",
      "Epoch 49/100\n",
      "233/233 [==============================] - 10s 43ms/step - loss: 0.2101 - acc: 0.9554 - val_loss: 0.7397 - val_acc: 0.8747\n",
      "Epoch 50/100\n",
      "233/233 [==============================] - 10s 43ms/step - loss: 0.2072 - acc: 0.9557 - val_loss: 0.7385 - val_acc: 0.8753\n",
      "Epoch 51/100\n",
      "233/233 [==============================] - 10s 43ms/step - loss: 0.2046 - acc: 0.9560 - val_loss: 0.7415 - val_acc: 0.8735\n",
      "Epoch 52/100\n",
      "233/233 [==============================] - 10s 42ms/step - loss: 0.2026 - acc: 0.9562 - val_loss: 0.7448 - val_acc: 0.8733\n",
      "Epoch 53/100\n",
      "233/233 [==============================] - 10s 43ms/step - loss: 0.2006 - acc: 0.9566 - val_loss: 0.7423 - val_acc: 0.8750\n",
      "Epoch 54/100\n",
      "233/233 [==============================] - 11s 46ms/step - loss: 0.1984 - acc: 0.9568 - val_loss: 0.7514 - val_acc: 0.8732\n",
      "Epoch 55/100\n",
      "233/233 [==============================] - 11s 47ms/step - loss: 0.1965 - acc: 0.9574 - val_loss: 0.7516 - val_acc: 0.8742\n",
      "Epoch 56/100\n",
      "233/233 [==============================] - 11s 47ms/step - loss: 0.1950 - acc: 0.9572 - val_loss: 0.7462 - val_acc: 0.8752\n",
      "Epoch 57/100\n",
      "233/233 [==============================] - 11s 46ms/step - loss: 0.1932 - acc: 0.9572 - val_loss: 0.7484 - val_acc: 0.8740\n",
      "Epoch 58/100\n",
      "233/233 [==============================] - 11s 46ms/step - loss: 0.1913 - acc: 0.9577 - val_loss: 0.7479 - val_acc: 0.8743\n",
      "Epoch 59/100\n",
      "233/233 [==============================] - 11s 45ms/step - loss: 0.1901 - acc: 0.9577 - val_loss: 0.7454 - val_acc: 0.8758\n",
      "Epoch 60/100\n",
      "233/233 [==============================] - 11s 46ms/step - loss: 0.1884 - acc: 0.9576 - val_loss: 0.7508 - val_acc: 0.8738\n",
      "Epoch 61/100\n"
     ]
    },
    {
     "name": "stdout",
     "output_type": "stream",
     "text": [
      "233/233 [==============================] - 11s 45ms/step - loss: 0.1869 - acc: 0.9578 - val_loss: 0.7509 - val_acc: 0.8742\n",
      "Epoch 62/100\n",
      "233/233 [==============================] - 11s 46ms/step - loss: 0.1851 - acc: 0.9583 - val_loss: 0.7510 - val_acc: 0.8743\n",
      "Epoch 63/100\n",
      "233/233 [==============================] - 11s 45ms/step - loss: 0.1834 - acc: 0.9581 - val_loss: 0.7513 - val_acc: 0.8751\n",
      "Epoch 64/100\n",
      "233/233 [==============================] - 11s 45ms/step - loss: 0.1820 - acc: 0.9585 - val_loss: 0.7503 - val_acc: 0.8742\n",
      "Epoch 65/100\n",
      "233/233 [==============================] - 11s 45ms/step - loss: 0.1808 - acc: 0.9583 - val_loss: 0.7507 - val_acc: 0.8737\n",
      "Epoch 66/100\n",
      "233/233 [==============================] - 11s 45ms/step - loss: 0.1794 - acc: 0.9585 - val_loss: 0.7539 - val_acc: 0.8742\n",
      "Epoch 67/100\n",
      "233/233 [==============================] - 11s 46ms/step - loss: 0.1779 - acc: 0.9587 - val_loss: 0.7533 - val_acc: 0.8748\n",
      "Epoch 68/100\n",
      "233/233 [==============================] - 11s 46ms/step - loss: 0.1767 - acc: 0.9590 - val_loss: 0.7517 - val_acc: 0.8749\n",
      "Epoch 69/100\n",
      "233/233 [==============================] - 11s 46ms/step - loss: 0.1751 - acc: 0.9591 - val_loss: 0.7578 - val_acc: 0.8729\n",
      "Epoch 70/100\n",
      "233/233 [==============================] - 11s 46ms/step - loss: 0.1737 - acc: 0.9592 - val_loss: 0.7553 - val_acc: 0.8736\n",
      "Epoch 71/100\n",
      "233/233 [==============================] - 11s 46ms/step - loss: 0.1725 - acc: 0.9595 - val_loss: 0.7537 - val_acc: 0.8740\n",
      "Epoch 72/100\n",
      "233/233 [==============================] - 11s 46ms/step - loss: 0.1702 - acc: 0.9595 - val_loss: 0.7585 - val_acc: 0.8736\n",
      "Epoch 73/100\n",
      "233/233 [==============================] - 11s 45ms/step - loss: 0.1687 - acc: 0.9597 - val_loss: 0.7546 - val_acc: 0.8752\n",
      "Epoch 74/100\n",
      "233/233 [==============================] - 11s 46ms/step - loss: 0.1669 - acc: 0.9598 - val_loss: 0.7540 - val_acc: 0.8748\n",
      "Epoch 75/100\n",
      "233/233 [==============================] - 11s 47ms/step - loss: 0.1654 - acc: 0.9601 - val_loss: 0.7552 - val_acc: 0.8749\n",
      "Epoch 76/100\n",
      "233/233 [==============================] - 11s 46ms/step - loss: 0.1643 - acc: 0.9602 - val_loss: 0.7580 - val_acc: 0.8745\n",
      "Epoch 77/100\n",
      "233/233 [==============================] - 11s 46ms/step - loss: 0.1638 - acc: 0.9602 - val_loss: 0.7586 - val_acc: 0.8733\n",
      "Epoch 78/100\n",
      "233/233 [==============================] - 11s 46ms/step - loss: 0.1628 - acc: 0.9603 - val_loss: 0.7568 - val_acc: 0.8746\n",
      "Epoch 79/100\n",
      "233/233 [==============================] - 11s 46ms/step - loss: 0.1623 - acc: 0.9601 - val_loss: 0.7631 - val_acc: 0.8736\n",
      "Epoch 80/100\n",
      "233/233 [==============================] - 11s 46ms/step - loss: 0.1611 - acc: 0.9607 - val_loss: 0.7635 - val_acc: 0.8735\n",
      "Epoch 81/100\n",
      "233/233 [==============================] - 11s 46ms/step - loss: 0.1601 - acc: 0.9607 - val_loss: 0.7626 - val_acc: 0.8739\n",
      "Epoch 82/100\n",
      "233/233 [==============================] - 11s 46ms/step - loss: 0.1595 - acc: 0.9607 - val_loss: 0.7664 - val_acc: 0.8733\n",
      "Epoch 83/100\n",
      "233/233 [==============================] - 11s 47ms/step - loss: 0.1586 - acc: 0.9607 - val_loss: 0.7631 - val_acc: 0.8735\n",
      "Epoch 84/100\n",
      "233/233 [==============================] - 11s 46ms/step - loss: 0.1579 - acc: 0.9607 - val_loss: 0.7645 - val_acc: 0.8724\n",
      "Epoch 85/100\n",
      "233/233 [==============================] - 11s 46ms/step - loss: 0.1566 - acc: 0.9607 - val_loss: 0.7635 - val_acc: 0.8724\n",
      "Epoch 86/100\n",
      "233/233 [==============================] - 11s 46ms/step - loss: 0.1557 - acc: 0.9609 - val_loss: 0.7694 - val_acc: 0.8720\n",
      "Epoch 87/100\n",
      "233/233 [==============================] - 11s 47ms/step - loss: 0.1545 - acc: 0.9609 - val_loss: 0.7688 - val_acc: 0.8726\n",
      "Epoch 88/100\n",
      "233/233 [==============================] - 11s 47ms/step - loss: 0.1540 - acc: 0.9610 - val_loss: 0.7662 - val_acc: 0.8746\n",
      "Epoch 89/100\n",
      "233/233 [==============================] - 11s 47ms/step - loss: 0.1529 - acc: 0.9610 - val_loss: 0.7650 - val_acc: 0.8746\n",
      "Epoch 90/100\n",
      "233/233 [==============================] - 11s 46ms/step - loss: 0.1523 - acc: 0.9611 - val_loss: 0.7674 - val_acc: 0.8725\n",
      "Epoch 91/100\n",
      "233/233 [==============================] - 11s 47ms/step - loss: 0.1517 - acc: 0.9612 - val_loss: 0.7645 - val_acc: 0.8733\n",
      "Epoch 92/100\n",
      "233/233 [==============================] - 11s 46ms/step - loss: 0.1509 - acc: 0.9614 - val_loss: 0.7635 - val_acc: 0.8734\n",
      "Epoch 93/100\n",
      "233/233 [==============================] - 11s 47ms/step - loss: 0.1503 - acc: 0.9613 - val_loss: 0.7644 - val_acc: 0.8731\n",
      "Epoch 94/100\n",
      "233/233 [==============================] - 11s 47ms/step - loss: 0.1494 - acc: 0.9613 - val_loss: 0.7642 - val_acc: 0.8728\n",
      "Epoch 95/100\n",
      "233/233 [==============================] - 11s 47ms/step - loss: 0.1486 - acc: 0.9614 - val_loss: 0.7631 - val_acc: 0.8737\n",
      "Epoch 96/100\n",
      "233/233 [==============================] - 11s 47ms/step - loss: 0.1478 - acc: 0.9614 - val_loss: 0.7654 - val_acc: 0.8730\n",
      "Epoch 97/100\n",
      "233/233 [==============================] - 11s 47ms/step - loss: 0.1470 - acc: 0.9615 - val_loss: 0.7639 - val_acc: 0.8732\n",
      "Epoch 98/100\n",
      "233/233 [==============================] - 11s 47ms/step - loss: 0.1461 - acc: 0.9616 - val_loss: 0.7668 - val_acc: 0.8723\n",
      "Epoch 99/100\n",
      "233/233 [==============================] - 11s 47ms/step - loss: 0.1454 - acc: 0.9617 - val_loss: 0.7681 - val_acc: 0.8718\n",
      "Epoch 100/100\n",
      "233/233 [==============================] - 11s 47ms/step - loss: 0.1445 - acc: 0.9620 - val_loss: 0.7718 - val_acc: 0.8719\n"
     ]
    }
   ],
   "source": [
    "history =model.fit([eng2vector_train, dec2vector_train], tar2vector_train,\n",
    "             batch_size=128,\n",
    "             epochs=epochs,\n",
    "             callbacks=callback,\n",
    "             validation_data=([eng2vector_test, dec2vector_test], tar2vector_test))"
   ]
  },
  {
   "cell_type": "code",
   "execution_count": 186,
   "metadata": {},
   "outputs": [
    {
     "data": {
      "image/png": "[encoded data removed]",
      "text/plain": [
       "<Figure size 432x288 with 2 Axes>"
      ]
     },
     "metadata": {
      "needs_background": "light"
     },
     "output_type": "display_data"
    },
    {
     "name": "stdout",
     "output_type": "stream",
     "text": [
      "0.9619507789611816\n",
      "0.871874988079071\n",
      "0.14448168873786926\n",
      "0.7717998623847961\n"
     ]
    }
   ],
   "source": [
    "import matplotlib.pyplot as plt\n",
    "%matplotlib inline\n",
    "\n",
    "fig, loss_ax = plt.subplots()\n",
    "acc_ax = loss_ax.twinx()\n",
    "\n",
    "acc_ax.plot(history.history['acc'], 'b', label='train acc')\n",
    "acc_ax.plot(history.history['val_acc'], 'r', label='val acc')\n",
    "\n",
    "loss_ax.plot(history.history['loss'],'g', label='train loss')\n",
    "loss_ax.plot(history.history['val_loss'],'y', label='val loss')\n",
    "\n",
    "loss_ax.set_xlabel('epoch')\n",
    "loss_ax.set_ylabel('loss')\n",
    "acc_ax.set_ylabel('accuracy')\n",
    "\n",
    "loss_ax.legend(loc='upper left')\n",
    "acc_ax.legend(loc='lower left')\n",
    "\n",
    "plt.show()\n",
    "\n",
    "print(history.history['acc'][-1])\n",
    "print(history.history['val_acc'][-1])\n",
    "print(history.history['loss'][-1])\n",
    "print(history.history['val_loss'][-1])"
   ]
  },
  {
   "cell_type": "code",
   "execution_count": 171,
   "metadata": {},
   "outputs": [
    {
     "data": {
      "text/plain": [
       "<tensorflow.python.training.tracking.util.CheckpointLoadStatus at 0x7f6d2890c050>"
      ]
     },
     "execution_count": 171,
     "metadata": {},
     "output_type": "execute_result"
    }
   ],
   "source": [
    "#load model\n",
    "best_model = Model([encoder_inputs, decoder_inputs], decoder_outputs)\n",
    "best_model.compile(optimizer='rmsprop', loss='sparse_categorical_crossentropy',\n",
    "             metrics=['acc'])\n",
    "best_model.load_weights(chekpoint_filepath)"
   ]
  },
  {
   "cell_type": "code",
   "execution_count": 189,
   "metadata": {},
   "outputs": [
    {
     "data": {
      "text/plain": [
       "<tensorflow.python.keras.engine.functional.Functional at 0x7f6c1a9edfd0>"
      ]
     },
     "execution_count": 189,
     "metadata": {},
     "output_type": "execute_result"
    }
   ],
   "source": [
    "best_model"
   ]
  },
  {
   "cell_type": "markdown",
   "metadata": {},
   "source": [
    "### Step 6 모델 평가하기\n",
    "---\n",
    "단어 단위 번역기에 대해서 훈련 데이터의 샘플과 테스트 데이터의 샘플에 대해서 번역 문장을 만들어보고 정답 문장과 번역 문장을 비교해보자."
   ]
  },
  {
   "cell_type": "code",
   "execution_count": 190,
   "metadata": {
    "scrolled": true
   },
   "outputs": [
    {
     "name": "stdout",
     "output_type": "stream",
     "text": [
      "Model: \"functional_31\"\n",
      "_________________________________________________________________\n",
      "Layer (type)                 Output Shape              Param #   \n",
      "=================================================================\n",
      "input_23 (InputLayer)        [(None, None)]            0         \n",
      "_________________________________________________________________\n",
      "embedding_20 (Embedding)     (None, None, 250)         1165750   \n",
      "_________________________________________________________________\n",
      "masking_20 (Masking)         (None, None, 250)         0         \n",
      "_________________________________________________________________\n",
      "lstm_20 (LSTM)               [(None, 250), (None, 250) 501000    \n",
      "=================================================================\n",
      "Total params: 1,666,750\n",
      "Trainable params: 1,666,750\n",
      "Non-trainable params: 0\n",
      "_________________________________________________________________\n"
     ]
    }
   ],
   "source": [
    "encoder_model = Model(inputs = encoder_inputs, outputs = encoder_states)\n",
    "encoder_model.summary()"
   ]
  },
  {
   "cell_type": "code",
   "execution_count": 191,
   "metadata": {},
   "outputs": [],
   "source": [
    "# 디코더\n",
    "# 이전 시점의 상태를 보관할 텐서\n",
    "decoder_state_input_h = Input(shape=(latent_dim,))\n",
    "decoder_state_input_c = Input(shape=(latent_dim,))\n",
    "decoder_states_inputs = [decoder_state_input_h, decoder_state_input_c]\n",
    "\n",
    "# 훈련 때 사용했던 임베딩 층을 재사용\n",
    "dec_emb2= dec_emb_layer(decoder_inputs)\n",
    "\n",
    "# 다음 단어 예측을 위해 이전 시점의 상태를 현 시점의 초기 상태로 사용\n",
    "decoder_outputs2, state_h2, state_c2 = decoder_lstm(dec_emb2, initial_state=decoder_states_inputs)\n",
    "decoder_states2 = [state_h2, state_c2]\n",
    "\n",
    "# 모든 시점에 대해서 단어 예측\n",
    "decoder_outputs2 = decoder_dense(decoder_outputs2)"
   ]
  },
  {
   "cell_type": "code",
   "execution_count": 192,
   "metadata": {},
   "outputs": [],
   "source": [
    "decoder_model = Model(\n",
    "    [decoder_inputs] + decoder_states_inputs,\n",
    "    [decoder_outputs2] + decoder_states2)"
   ]
  },
  {
   "cell_type": "code",
   "execution_count": 197,
   "metadata": {},
   "outputs": [],
   "source": [
    "def decode_sequence(input_seq):\n",
    "    # 입력으로부터 인코더의 상태를 얻음\n",
    "    states_value = encoder_model.predict(input_seq)\n",
    "\n",
    "    # <SOS>에 해당하는 정수 생성\n",
    "    target_seq = np.zeros((1,1))\n",
    "    target_seq[0, 0] = tar_to_index['<sos>']\n",
    "\n",
    "    stop_condition = False\n",
    "    decoded_sentence = ''\n",
    "\n",
    "    # stop_condition이 True가 될 때까지 루프 반복\n",
    "    # 구현의 간소화를 위해서 이 함수는 배치 크기를 1로 가정합니다.\n",
    "    while not stop_condition:\n",
    "        # 이점 시점의 상태 states_value를 현 시점의 초기 상태로 사용\n",
    "        output_tokens, h, c = decoder_model.predict([target_seq] + states_value)\n",
    "\n",
    "        # 예측 결과를 단어로 변환\n",
    "        sampled_token_index = np.argmax(output_tokens[0, -1, :])\n",
    "        sampled_char = index_to_tar[sampled_token_index]\n",
    "\n",
    "         # 현재 시점의 예측 단어를 예측 문장에 추가\n",
    "        decoded_sentence += ' '+sampled_char\n",
    "\n",
    "        # <eos>에 도달하거나 정해진 길이를 넘으면 중단.\n",
    "        if (sampled_char == '<eos>' or\n",
    "           len(decoded_sentence) > 50):\n",
    "            stop_condition = True\n",
    "\n",
    "        # 현재 시점의 예측 결과를 다음 시점의 입력으로 사용하기 위해 저장\n",
    "        target_seq = np.zeros((1,1))\n",
    "        target_seq[0, 0] = sampled_token_index\n",
    "\n",
    "        # 현재 시점의 상태를 다음 시점의 상태로 사용하기 위해 저장\n",
    "        states_value = [h, c]\n",
    "\n",
    "    return decoded_sentence"
   ]
  },
  {
   "cell_type": "code",
   "execution_count": 198,
   "metadata": {},
   "outputs": [],
   "source": [
    "# 원문의 정수 시퀀스를 텍스트 시퀀스로 변환\n",
    "def seq2src(input_seq):\n",
    "    temp=''\n",
    "    for i in input_seq:\n",
    "        if(i!=0):\n",
    "            temp = temp + index_to_src[i]+' '\n",
    "    return temp\n",
    "\n",
    "# 번역문의 정수 시퀀스를 텍스트 시퀀스로 변환\n",
    "def seq2tar(input_seq):\n",
    "    temp=''\n",
    "    for i in input_seq:\n",
    "        if((i!=0 and i!=tar_to_index['<sos>']) and i!=tar_to_index['<eos>']):\n",
    "            temp = temp + index_to_tar[i] + ' '\n",
    "    return temp"
   ]
  },
  {
   "cell_type": "code",
   "execution_count": 199,
   "metadata": {
    "scrolled": false
   },
   "outputs": [
    {
     "name": "stdout",
     "output_type": "stream",
     "text": [
      "원문 :  they spoke briefly . \n",
      "번역문 : ils se sont bri vement entretenus . \n",
      "예측문 :  elles parl rent bri vement . \n",
      "\n",
      "\n",
      "원문 :  i got really mad . \n",
      "번역문 : je me suis vraiment mise en col re . \n",
      "예측문 :  je me suis vraiment mis en col re . \n",
      "\n",
      "\n",
      "원문 :  i wonder who . \n",
      "번역문 : je me demande qui . \n",
      "예측문 :  je me demande qui . \n",
      "\n",
      "\n",
      "원문 :  it was very ugly . \n",
      "번역문 : c tait tr s laid . \n",
      "예측문 :  c tait fort laid . \n",
      "\n",
      "\n",
      "원문 :  she became pregnant . \n",
      "번역문 : elle est tomb e enceinte . \n",
      "예측문 :  elle est tomb e enceinte . \n",
      "\n",
      "\n",
      "원문 :  i ve just seen tom . \n",
      "번역문 : je viens de voir tom . \n",
      "예측문 :  je viens de voir tom . \n",
      "\n",
      "\n",
      "원문 :  she met her uncle . \n",
      "번역문 : elle rencontra son oncle . \n",
      "예측문 :  elle a rencontr son oncle . \n",
      "\n",
      "\n"
     ]
    }
   ],
   "source": [
    "for seq_index in [3,50,100,300,1001, 162, 369]:\n",
    "    input_seq = eng2vector_train[seq_index: seq_index + 1]\n",
    "    decoded_sentence = decode_sequence(input_seq)\n",
    "\n",
    "    print(\"원문 : \",seq2src(eng2vector_train[seq_index]))\n",
    "    print(\"번역문 :\",seq2tar(dec2vector_train[seq_index]))\n",
    "    print(\"예측문 :\",decoded_sentence[:-5])\n",
    "    print(\"\\n\")"
   ]
  },
  {
   "cell_type": "markdown",
   "metadata": {},
   "source": [
    "## 고찰\n",
    "  \n",
    "인코딩과 디코딩 두개의 모델을 나눠서 학습을 시키는 과정이 생소했기 때문에 모델을 구현하는데에 어려움이 있었다.  \n",
    "자연어 처리에서 항상 어려움이 있었던 토크나이즈와 임베딩 개념을 확실히 할 수 있는 시간이었다.  \n",
    "  \n",
    "Callback함수를 이용하여 모델 학습에 효율성을 높일려는 시도를 하였다.  \n",
    "CosineAnnealingScheduler 클래스를 선언하여 학습률 조절을 시도하였는데 Validation data가 수렵해나가는 속도보다 학습률이 더 빠르게 떨어져 동일한 에폭으로 실험을 했을 때 고정 learning rate로 학습을 하는 것이 오히려 더 좋은 정확도와 더 낮은 loss를 얻을 수 있었다. 시도는 좋았으나 경험적으로 아직 부족하다고 판단된다.  \n",
    "  \n",
    "이미지는 동일한 사이즈를 가진다는 데이터를 제한하는 조건이 몇 개의 샘플만 시각화 하여도 데이터 전처리가 잘 적용되고 있는지 확인이 가능하지만 자연어는 가지고 있는 데이터의 길이가 다양하기 때문에 직관적으로 전처리가 잘 되고 있는지 확인하는데에 어려움이 있다."
   ]
  },
  {
   "cell_type": "code",
   "execution_count": null,
   "metadata": {},
   "outputs": [],
   "source": []
  }
 ],
 "metadata": {
  "kernelspec": {
   "display_name": "aiffel",
   "language": "python",
   "name": "aiffel"
  },
  "language_info": {
   "codemirror_mode": {
    "name": "ipython",
    "version": 3
   },
   "file_extension": ".py",
   "mimetype": "text/x-python",
   "name": "python",
   "nbconvert_exporter": "python",
   "pygments_lexer": "ipython3",
   "version": "3.7.6"
  }
 },
 "nbformat": 4,
 "nbformat_minor": 4
}
