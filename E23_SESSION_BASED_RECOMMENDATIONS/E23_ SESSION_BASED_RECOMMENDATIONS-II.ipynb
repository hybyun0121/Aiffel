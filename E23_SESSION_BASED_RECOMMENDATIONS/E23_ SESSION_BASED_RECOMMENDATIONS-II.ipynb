{
 "cells": [
  {
   "cell_type": "code",
   "execution_count": 1,
   "metadata": {},
   "outputs": [],
   "source": [
    "import os\n",
    "import datetime as dt\n",
    "from pathlib import Path\n",
    "import pandas as pd\n",
    "import numpy as np\n",
    "import tensorflow as tf\n",
    "from tensorflow.keras.layers import Input, Dense, Dropout, GRU\n",
    "from tensorflow.keras.losses import categorical_crossentropy\n",
    "from tensorflow.keras.models import Model\n",
    "from tensorflow.keras.optimizers import Adam\n",
    "from tensorflow.keras.utils import to_categorical\n",
    "from tqdm import tqdm\n",
    "import warnings\n",
    "warnings.filterwarnings('ignore')"
   ]
  },
  {
   "cell_type": "markdown",
   "metadata": {},
   "source": [
    "### Step 0. 데이터 불러오고 열어보기"
   ]
  },
  {
   "cell_type": "code",
   "execution_count": 2,
   "metadata": {},
   "outputs": [],
   "source": [
    "data_path = Path(os.getenv(\"HOME\")+'/aiffel/yoochoose-data/ml-1m')\n",
    "train_path = data_path / 'ratings.dat'"
   ]
  },
  {
   "cell_type": "code",
   "execution_count": 3,
   "metadata": {},
   "outputs": [],
   "source": [
    "def load_data(data_path: Path, nrows = None):\n",
    "    data = pd.read_csv(data_path, sep='::', header=None, usecols=[0,1,2,3],\n",
    "                      dtype={0:np.int32, 1:np.int32, 2:np.int32},\n",
    "                      nrows=nrows)\n",
    "    data.columns = ['UserId','ItemId','Rating','Time']\n",
    "    return data"
   ]
  },
  {
   "cell_type": "markdown",
   "metadata": {},
   "source": [
    "데이터를 보면  \n",
    "- SessionID를 포함하지 않고 있으며 대신 UserID 정보가 있다.\n",
    "- Rating 정보가 포함되어 있다. "
   ]
  },
  {
   "cell_type": "code",
   "execution_count": 4,
   "metadata": {
    "scrolled": true
   },
   "outputs": [],
   "source": [
    "data = load_data(train_path, None)\n",
    "# data를 id와 time 순으로 정렬\n",
    "data.sort_values(['UserId', 'Time'], inplace=True)"
   ]
  },
  {
   "cell_type": "code",
   "execution_count": 5,
   "metadata": {
    "scrolled": true
   },
   "outputs": [
    {
     "data": {
      "text/html": [
       "<div>\n",
       "<style scoped>\n",
       "    .dataframe tbody tr th:only-of-type {\n",
       "        vertical-align: middle;\n",
       "    }\n",
       "\n",
       "    .dataframe tbody tr th {\n",
       "        vertical-align: top;\n",
       "    }\n",
       "\n",
       "    .dataframe thead th {\n",
       "        text-align: right;\n",
       "    }\n",
       "</style>\n",
       "<table border=\"1\" class=\"dataframe\">\n",
       "  <thead>\n",
       "    <tr style=\"text-align: right;\">\n",
       "      <th></th>\n",
       "      <th>UserId</th>\n",
       "      <th>ItemId</th>\n",
       "      <th>Rating</th>\n",
       "      <th>Time</th>\n",
       "    </tr>\n",
       "  </thead>\n",
       "  <tbody>\n",
       "    <tr>\n",
       "      <th>31</th>\n",
       "      <td>1</td>\n",
       "      <td>3186</td>\n",
       "      <td>4</td>\n",
       "      <td>978300019</td>\n",
       "    </tr>\n",
       "    <tr>\n",
       "      <th>22</th>\n",
       "      <td>1</td>\n",
       "      <td>1270</td>\n",
       "      <td>5</td>\n",
       "      <td>978300055</td>\n",
       "    </tr>\n",
       "    <tr>\n",
       "      <th>27</th>\n",
       "      <td>1</td>\n",
       "      <td>1721</td>\n",
       "      <td>4</td>\n",
       "      <td>978300055</td>\n",
       "    </tr>\n",
       "    <tr>\n",
       "      <th>37</th>\n",
       "      <td>1</td>\n",
       "      <td>1022</td>\n",
       "      <td>5</td>\n",
       "      <td>978300055</td>\n",
       "    </tr>\n",
       "    <tr>\n",
       "      <th>24</th>\n",
       "      <td>1</td>\n",
       "      <td>2340</td>\n",
       "      <td>3</td>\n",
       "      <td>978300103</td>\n",
       "    </tr>\n",
       "    <tr>\n",
       "      <th>36</th>\n",
       "      <td>1</td>\n",
       "      <td>1836</td>\n",
       "      <td>5</td>\n",
       "      <td>978300172</td>\n",
       "    </tr>\n",
       "    <tr>\n",
       "      <th>3</th>\n",
       "      <td>1</td>\n",
       "      <td>3408</td>\n",
       "      <td>4</td>\n",
       "      <td>978300275</td>\n",
       "    </tr>\n",
       "    <tr>\n",
       "      <th>7</th>\n",
       "      <td>1</td>\n",
       "      <td>2804</td>\n",
       "      <td>5</td>\n",
       "      <td>978300719</td>\n",
       "    </tr>\n",
       "    <tr>\n",
       "      <th>47</th>\n",
       "      <td>1</td>\n",
       "      <td>1207</td>\n",
       "      <td>4</td>\n",
       "      <td>978300719</td>\n",
       "    </tr>\n",
       "    <tr>\n",
       "      <th>0</th>\n",
       "      <td>1</td>\n",
       "      <td>1193</td>\n",
       "      <td>5</td>\n",
       "      <td>978300760</td>\n",
       "    </tr>\n",
       "  </tbody>\n",
       "</table>\n",
       "</div>"
      ],
      "text/plain": [
       "    UserId  ItemId  Rating       Time\n",
       "31       1    3186       4  978300019\n",
       "22       1    1270       5  978300055\n",
       "27       1    1721       4  978300055\n",
       "37       1    1022       5  978300055\n",
       "24       1    2340       3  978300103\n",
       "36       1    1836       5  978300172\n",
       "3        1    3408       4  978300275\n",
       "7        1    2804       5  978300719\n",
       "47       1    1207       4  978300719\n",
       "0        1    1193       5  978300760"
      ]
     },
     "execution_count": 5,
     "metadata": {},
     "output_type": "execute_result"
    }
   ],
   "source": [
    "data.head(10)"
   ]
  },
  {
   "cell_type": "code",
   "execution_count": 6,
   "metadata": {},
   "outputs": [],
   "source": [
    "data.drop(['Rating'], axis=1, inplace=True)"
   ]
  },
  {
   "cell_type": "code",
   "execution_count": 7,
   "metadata": {},
   "outputs": [
    {
     "data": {
      "text/html": [
       "<div>\n",
       "<style scoped>\n",
       "    .dataframe tbody tr th:only-of-type {\n",
       "        vertical-align: middle;\n",
       "    }\n",
       "\n",
       "    .dataframe tbody tr th {\n",
       "        vertical-align: top;\n",
       "    }\n",
       "\n",
       "    .dataframe thead th {\n",
       "        text-align: right;\n",
       "    }\n",
       "</style>\n",
       "<table border=\"1\" class=\"dataframe\">\n",
       "  <thead>\n",
       "    <tr style=\"text-align: right;\">\n",
       "      <th></th>\n",
       "      <th>UserId</th>\n",
       "      <th>ItemId</th>\n",
       "      <th>Time</th>\n",
       "    </tr>\n",
       "  </thead>\n",
       "  <tbody>\n",
       "    <tr>\n",
       "      <th>82017</th>\n",
       "      <td>543</td>\n",
       "      <td>550</td>\n",
       "      <td>976215314</td>\n",
       "    </tr>\n",
       "    <tr>\n",
       "      <th>970728</th>\n",
       "      <td>5849</td>\n",
       "      <td>1263</td>\n",
       "      <td>957766098</td>\n",
       "    </tr>\n",
       "    <tr>\n",
       "      <th>957172</th>\n",
       "      <td>5776</td>\n",
       "      <td>2391</td>\n",
       "      <td>961023198</td>\n",
       "    </tr>\n",
       "    <tr>\n",
       "      <th>958463</th>\n",
       "      <td>5786</td>\n",
       "      <td>1198</td>\n",
       "      <td>958143251</td>\n",
       "    </tr>\n",
       "    <tr>\n",
       "      <th>804716</th>\n",
       "      <td>4818</td>\n",
       "      <td>750</td>\n",
       "      <td>962923141</td>\n",
       "    </tr>\n",
       "  </tbody>\n",
       "</table>\n",
       "</div>"
      ],
      "text/plain": [
       "        UserId  ItemId       Time\n",
       "82017      543     550  976215314\n",
       "970728    5849    1263  957766098\n",
       "957172    5776    2391  961023198\n",
       "958463    5786    1198  958143251\n",
       "804716    4818     750  962923141"
      ]
     },
     "execution_count": 7,
     "metadata": {},
     "output_type": "execute_result"
    }
   ],
   "source": [
    "data.sample(5)"
   ]
  },
  {
   "cell_type": "code",
   "execution_count": 8,
   "metadata": {},
   "outputs": [
    {
     "name": "stdout",
     "output_type": "stream",
     "text": [
      "User 수 :  6040\n",
      "Item 수 :  6040\n"
     ]
    }
   ],
   "source": [
    "print(\"User 수 : \", data['UserId'].nunique())\n",
    "print(\"Item 수 : \", data[\"UserId\"].nunique())"
   ]
  },
  {
   "cell_type": "markdown",
   "metadata": {},
   "source": [
    "한 UserID가 가지고 있는 row의 개수를 파악해보자."
   ]
  },
  {
   "cell_type": "code",
   "execution_count": 9,
   "metadata": {},
   "outputs": [
    {
     "name": "stdout",
     "output_type": "stream",
     "text": [
      "userid 마다 가지고 있는 row의 수\n",
      "\n",
      " UserId\n",
      "1        53\n",
      "2       129\n",
      "3        51\n",
      "4        21\n",
      "5       198\n",
      "       ... \n",
      "6036    888\n",
      "6037    202\n",
      "6038     20\n",
      "6039    123\n",
      "6040    341\n",
      "Length: 6040, dtype: int64\n"
     ]
    }
   ],
   "source": [
    "userid_length = data.groupby('UserId').size()\n",
    "print(\"userid 마다 가지고 있는 row의 수\\n\\n\",userid_length)"
   ]
  },
  {
   "cell_type": "markdown",
   "metadata": {},
   "source": [
    "userid를 좀 더 알아보자."
   ]
  },
  {
   "cell_type": "code",
   "execution_count": 10,
   "metadata": {
    "scrolled": false
   },
   "outputs": [
    {
     "name": "stdout",
     "output_type": "stream",
     "text": [
      " 중앙값 :  96.0 \n",
      " 평균값 :  165.5975165562914\n",
      " 최소값 :  20 \n",
      " 최대값 :  2314\n"
     ]
    }
   ],
   "source": [
    "print(\" 중앙값 : \", userid_length.median(),\"\\n 평균값 : \", userid_length.mean())\n",
    "print(\" 최소값 : \", userid_length.min(), \"\\n 최대값 : \", userid_length.max())"
   ]
  },
  {
   "cell_type": "code",
   "execution_count": 11,
   "metadata": {},
   "outputs": [
    {
     "name": "stdout",
     "output_type": "stream",
     "text": [
      "0.999분위수 :  1343.181000000005\n"
     ]
    }
   ],
   "source": [
    "print(\"0.999분위수 : \", userid_length.quantile(0.999))"
   ]
  },
  {
   "cell_type": "code",
   "execution_count": 12,
   "metadata": {},
   "outputs": [
    {
     "data": {
      "text/plain": [
       "7"
      ]
     },
     "execution_count": 12,
     "metadata": {},
     "output_type": "execute_result"
    }
   ],
   "source": [
    "sum(userid_length.values > 1343)"
   ]
  },
  {
   "cell_type": "code",
   "execution_count": 13,
   "metadata": {
    "scrolled": true
   },
   "outputs": [
    {
     "name": "stdout",
     "output_type": "stream",
     "text": [
      " data 개수가 1343개 이상인 userid \n",
      " [889, 1181, 1680, 1941, 3618, 4169, 4277]\n"
     ]
    }
   ],
   "source": [
    "print(\" data 개수가 1343개 이상인 userid \\n\", list(userid_length[userid_length > 1343].index[:]))"
   ]
  },
  {
   "cell_type": "markdown",
   "metadata": {},
   "source": [
    "평균적으로 한 아이디당 165개의 영화에 rating을 하였고 0.999분위수 안에  \n",
    "포함된 분포를 확인해보면 1343개의 영화를 넘지 않는다.  \n",
    "따라서 1343개 보다 많은 영화에 평점을 매긴 userid를 살펴볼 필요가 있다."
   ]
  },
  {
   "cell_type": "code",
   "execution_count": 14,
   "metadata": {},
   "outputs": [],
   "source": [
    "data_longest = data[data[\"UserId\"].isin([889, 1181, 1680, 1941, 3618, 4169, 4277])]"
   ]
  },
  {
   "cell_type": "code",
   "execution_count": 15,
   "metadata": {
    "scrolled": true
   },
   "outputs": [
    {
     "name": "stdout",
     "output_type": "stream",
     "text": [
      "<class 'pandas.core.frame.DataFrame'>\n",
      "Int64Index: 11885 entries, 137631 to 713774\n",
      "Data columns (total 3 columns):\n",
      " #   Column  Non-Null Count  Dtype\n",
      "---  ------  --------------  -----\n",
      " 0   UserId  11885 non-null  int32\n",
      " 1   ItemId  11885 non-null  int32\n",
      " 2   Time    11885 non-null  int64\n",
      "dtypes: int32(2), int64(1)\n",
      "memory usage: 278.6 KB\n"
     ]
    }
   ],
   "source": [
    "data_longest.info()"
   ]
  },
  {
   "cell_type": "code",
   "execution_count": 16,
   "metadata": {},
   "outputs": [
    {
     "data": {
      "text/plain": [
       "UserId\n",
       "889     1518\n",
       "1181    1521\n",
       "1680    1850\n",
       "1941    1595\n",
       "3618    1344\n",
       "4169    2314\n",
       "4277    1743\n",
       "Name: ItemId, dtype: int64"
      ]
     },
     "execution_count": 16,
     "metadata": {},
     "output_type": "execute_result"
    }
   ],
   "source": [
    "data_longest.groupby([\"UserId\"]).count()[\"ItemId\"]"
   ]
  },
  {
   "cell_type": "code",
   "execution_count": 17,
   "metadata": {},
   "outputs": [],
   "source": [
    "import seaborn as sns"
   ]
  },
  {
   "cell_type": "code",
   "execution_count": 18,
   "metadata": {
    "scrolled": false
   },
   "outputs": [
    {
     "data": {
      "text/plain": [
       "<matplotlib.axes._subplots.AxesSubplot at 0x7f63e8ed3110>"
      ]
     },
     "execution_count": 18,
     "metadata": {},
     "output_type": "execute_result"
    },
    {
     "data": {
      "image/png": "[encoded data removed]",
      "text/plain": [
       "<Figure size 432x288 with 1 Axes>"
      ]
     },
     "metadata": {
      "needs_background": "light"
     },
     "output_type": "display_data"
    }
   ],
   "source": [
    "sns.boxplot(data.groupby([\"UserId\"]).count()[\"ItemId\"])"
   ]
  },
  {
   "cell_type": "code",
   "execution_count": 19,
   "metadata": {},
   "outputs": [],
   "source": [
    "length_count = userid_length.groupby(userid_length).size()\n",
    "length_percent_cumsum = length_count.cumsum() / length_count.sum()"
   ]
  },
  {
   "cell_type": "code",
   "execution_count": 20,
   "metadata": {},
   "outputs": [],
   "source": [
    "length_percent_cumsum_999=length_percent_cumsum[length_percent_cumsum < 0.999]"
   ]
  },
  {
   "cell_type": "code",
   "execution_count": 21,
   "metadata": {
    "scrolled": false
   },
   "outputs": [
    {
     "data": {
      "image/png": "[encoded data removed]",
      "text/plain": [
       "<Figure size 1440x720 with 1 Axes>"
      ]
     },
     "metadata": {
      "needs_background": "light"
     },
     "output_type": "display_data"
    }
   ],
   "source": [
    "import matplotlib.pyplot as plt\n",
    "\n",
    "plt.figure(figsize=(20, 10))\n",
    "plt.bar(x=length_percent_cumsum_999.index,\n",
    "        height=length_percent_cumsum_999, color='red')\n",
    "plt.xticks(length_percent_cumsum_999.index)\n",
    "plt.yticks(np.arange(0, 1.01, 0.05))\n",
    "plt.title('Cumsum Percentage Until 0.999', size=20)\n",
    "plt.show()"
   ]
  },
  {
   "cell_type": "markdown",
   "metadata": {},
   "source": [
    "모델 학습에 큰 영향을 끼치지 않을 것으로 판단하여 모든 id"
   ]
  },
  {
   "cell_type": "code",
   "execution_count": 22,
   "metadata": {
    "scrolled": false
   },
   "outputs": [
    {
     "data": {
      "text/html": [
       "<div>\n",
       "<style scoped>\n",
       "    .dataframe tbody tr th:only-of-type {\n",
       "        vertical-align: middle;\n",
       "    }\n",
       "\n",
       "    .dataframe tbody tr th {\n",
       "        vertical-align: top;\n",
       "    }\n",
       "\n",
       "    .dataframe thead th {\n",
       "        text-align: right;\n",
       "    }\n",
       "</style>\n",
       "<table border=\"1\" class=\"dataframe\">\n",
       "  <thead>\n",
       "    <tr style=\"text-align: right;\">\n",
       "      <th></th>\n",
       "      <th>ItemId</th>\n",
       "      <th>Time</th>\n",
       "    </tr>\n",
       "    <tr>\n",
       "      <th>UserId</th>\n",
       "      <th></th>\n",
       "      <th></th>\n",
       "    </tr>\n",
       "  </thead>\n",
       "  <tbody>\n",
       "    <tr>\n",
       "      <th>1</th>\n",
       "      <td>53</td>\n",
       "      <td>53</td>\n",
       "    </tr>\n",
       "    <tr>\n",
       "      <th>2</th>\n",
       "      <td>129</td>\n",
       "      <td>129</td>\n",
       "    </tr>\n",
       "    <tr>\n",
       "      <th>3</th>\n",
       "      <td>51</td>\n",
       "      <td>51</td>\n",
       "    </tr>\n",
       "    <tr>\n",
       "      <th>4</th>\n",
       "      <td>21</td>\n",
       "      <td>21</td>\n",
       "    </tr>\n",
       "    <tr>\n",
       "      <th>5</th>\n",
       "      <td>198</td>\n",
       "      <td>198</td>\n",
       "    </tr>\n",
       "    <tr>\n",
       "      <th>...</th>\n",
       "      <td>...</td>\n",
       "      <td>...</td>\n",
       "    </tr>\n",
       "    <tr>\n",
       "      <th>6036</th>\n",
       "      <td>888</td>\n",
       "      <td>888</td>\n",
       "    </tr>\n",
       "    <tr>\n",
       "      <th>6037</th>\n",
       "      <td>202</td>\n",
       "      <td>202</td>\n",
       "    </tr>\n",
       "    <tr>\n",
       "      <th>6038</th>\n",
       "      <td>20</td>\n",
       "      <td>20</td>\n",
       "    </tr>\n",
       "    <tr>\n",
       "      <th>6039</th>\n",
       "      <td>123</td>\n",
       "      <td>123</td>\n",
       "    </tr>\n",
       "    <tr>\n",
       "      <th>6040</th>\n",
       "      <td>341</td>\n",
       "      <td>341</td>\n",
       "    </tr>\n",
       "  </tbody>\n",
       "</table>\n",
       "<p>6040 rows × 2 columns</p>\n",
       "</div>"
      ],
      "text/plain": [
       "        ItemId  Time\n",
       "UserId              \n",
       "1           53    53\n",
       "2          129   129\n",
       "3           51    51\n",
       "4           21    21\n",
       "5          198   198\n",
       "...        ...   ...\n",
       "6036       888   888\n",
       "6037       202   202\n",
       "6038        20    20\n",
       "6039       123   123\n",
       "6040       341   341\n",
       "\n",
       "[6040 rows x 2 columns]"
      ]
     },
     "execution_count": 22,
     "metadata": {},
     "output_type": "execute_result"
    }
   ],
   "source": [
    "data.groupby(\"UserId\").count()"
   ]
  },
  {
   "cell_type": "markdown",
   "metadata": {},
   "source": [
    "### Step 1. 데이터 전처리"
   ]
  },
  {
   "cell_type": "code",
   "execution_count": 23,
   "metadata": {
    "scrolled": false
   },
   "outputs": [
    {
     "data": {
      "text/html": [
       "<div>\n",
       "<style scoped>\n",
       "    .dataframe tbody tr th:only-of-type {\n",
       "        vertical-align: middle;\n",
       "    }\n",
       "\n",
       "    .dataframe tbody tr th {\n",
       "        vertical-align: top;\n",
       "    }\n",
       "\n",
       "    .dataframe thead th {\n",
       "        text-align: right;\n",
       "    }\n",
       "</style>\n",
       "<table border=\"1\" class=\"dataframe\">\n",
       "  <thead>\n",
       "    <tr style=\"text-align: right;\">\n",
       "      <th></th>\n",
       "      <th>UserId</th>\n",
       "      <th>ItemId</th>\n",
       "    </tr>\n",
       "    <tr>\n",
       "      <th>Time</th>\n",
       "      <th></th>\n",
       "      <th></th>\n",
       "    </tr>\n",
       "  </thead>\n",
       "  <tbody>\n",
       "    <tr>\n",
       "      <th>956703932</th>\n",
       "      <td>1</td>\n",
       "      <td>1</td>\n",
       "    </tr>\n",
       "    <tr>\n",
       "      <th>956703954</th>\n",
       "      <td>2</td>\n",
       "      <td>2</td>\n",
       "    </tr>\n",
       "    <tr>\n",
       "      <th>956703977</th>\n",
       "      <td>2</td>\n",
       "      <td>2</td>\n",
       "    </tr>\n",
       "    <tr>\n",
       "      <th>956704056</th>\n",
       "      <td>5</td>\n",
       "      <td>5</td>\n",
       "    </tr>\n",
       "    <tr>\n",
       "      <th>956704081</th>\n",
       "      <td>1</td>\n",
       "      <td>1</td>\n",
       "    </tr>\n",
       "    <tr>\n",
       "      <th>...</th>\n",
       "      <td>...</td>\n",
       "      <td>...</td>\n",
       "    </tr>\n",
       "    <tr>\n",
       "      <th>1046454320</th>\n",
       "      <td>1</td>\n",
       "      <td>1</td>\n",
       "    </tr>\n",
       "    <tr>\n",
       "      <th>1046454338</th>\n",
       "      <td>1</td>\n",
       "      <td>1</td>\n",
       "    </tr>\n",
       "    <tr>\n",
       "      <th>1046454443</th>\n",
       "      <td>1</td>\n",
       "      <td>1</td>\n",
       "    </tr>\n",
       "    <tr>\n",
       "      <th>1046454548</th>\n",
       "      <td>2</td>\n",
       "      <td>2</td>\n",
       "    </tr>\n",
       "    <tr>\n",
       "      <th>1046454590</th>\n",
       "      <td>1</td>\n",
       "      <td>1</td>\n",
       "    </tr>\n",
       "  </tbody>\n",
       "</table>\n",
       "<p>458455 rows × 2 columns</p>\n",
       "</div>"
      ],
      "text/plain": [
       "            UserId  ItemId\n",
       "Time                      \n",
       "956703932        1       1\n",
       "956703954        2       2\n",
       "956703977        2       2\n",
       "956704056        5       5\n",
       "956704081        1       1\n",
       "...            ...     ...\n",
       "1046454320       1       1\n",
       "1046454338       1       1\n",
       "1046454443       1       1\n",
       "1046454548       2       2\n",
       "1046454590       1       1\n",
       "\n",
       "[458455 rows x 2 columns]"
      ]
     },
     "execution_count": 23,
     "metadata": {},
     "output_type": "execute_result"
    }
   ],
   "source": [
    "data.groupby(\"Time\").count()"
   ]
  },
  {
   "cell_type": "code",
   "execution_count": 24,
   "metadata": {},
   "outputs": [],
   "source": [
    "time_list = sorted(data[\"Time\"].unique())"
   ]
  },
  {
   "cell_type": "code",
   "execution_count": 25,
   "metadata": {},
   "outputs": [],
   "source": [
    "id_list = sorted(data[\"UserId\"].unique())"
   ]
  },
  {
   "cell_type": "code",
   "execution_count": 85,
   "metadata": {
    "scrolled": false
   },
   "outputs": [
    {
     "data": {
      "text/plain": [
       "Text(0.5, 1.0, 'User evaluation activity over time')"
      ]
     },
     "execution_count": 85,
     "metadata": {},
     "output_type": "execute_result"
    },
    {
     "data": {
      "image/png": "[encoded data removed]",
      "text/plain": [
       "<Figure size 720x720 with 1 Axes>"
      ]
     },
     "metadata": {
      "needs_background": "light"
     },
     "output_type": "display_data"
    }
   ],
   "source": [
    "plt.figure(figsize=(10,10))\n",
    "sns.scatterplot(x=data[\"Time\"], y=data['UserId'])\n",
    "plt.title(\"User evaluation activity over time\")"
   ]
  },
  {
   "cell_type": "code",
   "execution_count": 27,
   "metadata": {
    "scrolled": false
   },
   "outputs": [
    {
     "name": "stdout",
     "output_type": "stream",
     "text": [
      "956703932\n",
      "1046454590\n"
     ]
    }
   ],
   "source": [
    "oldest, latest = data['Time'].min(), data['Time'].max()\n",
    "print(oldest)\n",
    "print(latest)"
   ]
  },
  {
   "cell_type": "code",
   "execution_count": 28,
   "metadata": {},
   "outputs": [
    {
     "data": {
      "text/plain": [
       "86400.0"
      ]
     },
     "execution_count": 28,
     "metadata": {},
     "output_type": "execute_result"
    }
   ],
   "source": [
    "dt.timedelta(1).total_seconds()"
   ]
  },
  {
   "cell_type": "code",
   "execution_count": 29,
   "metadata": {},
   "outputs": [
    {
     "data": {
      "text/plain": [
       "1046368190.0"
      ]
     },
     "execution_count": 29,
     "metadata": {},
     "output_type": "execute_result"
    }
   ],
   "source": [
    "latest - dt.timedelta(1).total_seconds()"
   ]
  },
  {
   "cell_type": "code",
   "execution_count": 30,
   "metadata": {
    "scrolled": true
   },
   "outputs": [
    {
     "data": {
      "text/plain": [
       "UserId\n",
       "1       978824351\n",
       "2       978300174\n",
       "3       978298504\n",
       "4       978294282\n",
       "5       978246585\n",
       "          ...    \n",
       "6036    956755196\n",
       "6037    956801840\n",
       "6038    956717204\n",
       "6039    956758029\n",
       "6040    998315055\n",
       "Name: Time, Length: 6040, dtype: int64"
      ]
     },
     "execution_count": 30,
     "metadata": {},
     "output_type": "execute_result"
    }
   ],
   "source": [
    "data.groupby('UserId')['Time'].max()"
   ]
  },
  {
   "cell_type": "code",
   "execution_count": 31,
   "metadata": {},
   "outputs": [],
   "source": [
    "dt_end = (dt.datetime(1970, 1, 1) + dt.timedelta(seconds=data[\"Time\"].max()))"
   ]
  },
  {
   "cell_type": "code",
   "execution_count": 32,
   "metadata": {},
   "outputs": [],
   "source": [
    "dt_start = (dt.datetime(1970, 1, 1)+dt.timedelta(seconds=data[\"Time\"].min()))"
   ]
  },
  {
   "cell_type": "code",
   "execution_count": 33,
   "metadata": {},
   "outputs": [],
   "source": [
    "dt_day = (dt.datetime(1970, 1, 1)+dt.timedelta(seconds=978300019))"
   ]
  },
  {
   "cell_type": "code",
   "execution_count": 34,
   "metadata": {},
   "outputs": [
    {
     "data": {
      "text/plain": [
       "datetime.datetime(2000, 12, 31, 22, 0, 19)"
      ]
     },
     "execution_count": 34,
     "metadata": {},
     "output_type": "execute_result"
    }
   ],
   "source": [
    "dt_day"
   ]
  },
  {
   "cell_type": "code",
   "execution_count": 35,
   "metadata": {},
   "outputs": [
    {
     "data": {
      "text/plain": [
       "(datetime.datetime(2003, 2, 28, 17, 49, 50),\n",
       " datetime.datetime(2000, 4, 25, 23, 5, 32))"
      ]
     },
     "execution_count": 35,
     "metadata": {},
     "output_type": "execute_result"
    }
   ],
   "source": [
    "dt_end , dt_start"
   ]
  },
  {
   "cell_type": "markdown",
   "metadata": {},
   "source": [
    "가장 최근의 약 한달 데이터만을 이용하여 학습한다.  \n",
    "학습에 사용할 기간 : (2000, 12, 31, 22, 0, 19) <= x < (2001, 01, 29, 22, 0, 19)  \n",
    "평가에 사용할 기간 : (2001, 01, 29, 22, 0, 19) <= x < (2001, 01, 30, 22, 0, 19)  \n",
    "시험에 사용할 기간 : (2001, 01, 30, 22, 0, 19) <= x < (2001, 01, 31, 22, 0, 19)"
   ]
  },
  {
   "cell_type": "code",
   "execution_count": 36,
   "metadata": {},
   "outputs": [],
   "source": [
    "data[\"date\"] = dt.datetime(1970,1,1) + data[\"Time\"].map(lambda x : dt.timedelta(seconds=x))"
   ]
  },
  {
   "cell_type": "code",
   "execution_count": 37,
   "metadata": {
    "scrolled": true
   },
   "outputs": [
    {
     "data": {
      "text/plain": [
       "Timestamp('2000-04-25 23:05:32')"
      ]
     },
     "execution_count": 37,
     "metadata": {},
     "output_type": "execute_result"
    }
   ],
   "source": [
    "data.date.min()"
   ]
  },
  {
   "cell_type": "code",
   "execution_count": 38,
   "metadata": {},
   "outputs": [
    {
     "data": {
      "text/plain": [
       "Timestamp('2003-02-28 17:49:50')"
      ]
     },
     "execution_count": 38,
     "metadata": {},
     "output_type": "execute_result"
    }
   ],
   "source": [
    "data.date.max()"
   ]
  },
  {
   "cell_type": "code",
   "execution_count": 39,
   "metadata": {},
   "outputs": [],
   "source": [
    "tr = data[(dt.datetime(2000, 12, 31, 22, 0, 19)<=data[\"date\"]) & (data[\"date\"]<dt.datetime(2001, 1, 29, 22, 0, 19))]"
   ]
  },
  {
   "cell_type": "code",
   "execution_count": 40,
   "metadata": {},
   "outputs": [
    {
     "data": {
      "text/plain": [
       "(Timestamp('2000-12-31 22:00:19'), Timestamp('2001-01-29 21:58:48'))"
      ]
     },
     "execution_count": 40,
     "metadata": {},
     "output_type": "execute_result"
    }
   ],
   "source": [
    "tr[\"date\"].min(), tr[\"date\"].max()"
   ]
  },
  {
   "cell_type": "code",
   "execution_count": 41,
   "metadata": {},
   "outputs": [],
   "source": [
    "val = data[(dt.datetime(2001, 1, 29, 22, 0, 19)<=data[\"date\"])& (data[\"date\"]<dt.datetime(2001, 2, 1, 12, 0, 0))]"
   ]
  },
  {
   "cell_type": "code",
   "execution_count": 42,
   "metadata": {
    "scrolled": true
   },
   "outputs": [
    {
     "data": {
      "text/plain": [
       "(Timestamp('2001-01-29 22:08:52'), Timestamp('2001-02-01 11:08:35'))"
      ]
     },
     "execution_count": 42,
     "metadata": {},
     "output_type": "execute_result"
    }
   ],
   "source": [
    "val[\"date\"].min(), val[\"date\"].max()"
   ]
  },
  {
   "cell_type": "code",
   "execution_count": 43,
   "metadata": {},
   "outputs": [],
   "source": [
    "test = data[(dt.datetime(2001, 2, 1, 12, 0, 0)<=data[\"date\"])& (data[\"date\"]<dt.datetime(2001, 2, 4, 0, 0, 0))]"
   ]
  },
  {
   "cell_type": "code",
   "execution_count": 44,
   "metadata": {},
   "outputs": [
    {
     "data": {
      "text/plain": [
       "(Timestamp('2001-02-01 14:06:49'), Timestamp('2001-02-03 23:38:27'))"
      ]
     },
     "execution_count": 44,
     "metadata": {},
     "output_type": "execute_result"
    }
   ],
   "source": [
    "test[\"date\"].min(), test[\"date\"].max()"
   ]
  },
  {
   "cell_type": "code",
   "execution_count": 45,
   "metadata": {},
   "outputs": [],
   "source": [
    "def split_by_date(datas, n_days):\n",
    "    final_time = datas['Time'].max() #초를 몇일 몇초 경과했는지 계산해줌\n",
    "    userid_last_time = datas.groupby('UserId')['Time'].max()\n",
    "    \n",
    "    \n",
    "    \n",
    "    userid_in_train = userid_last_time[userid_last_time < (final_time - dt.timedelta(n_days).total_seconds())].index\n",
    "    userid_in_test = userid_last_time[userid_last_time >= (final_time - dt.timedelta(n_days).total_seconds())].index\n",
    "\n",
    "    before_date = datas[datas['UserId'].isin(userid_in_train)]\n",
    "    after_date = datas[datas['UserId'].isin(userid_in_test)]\n",
    "    after_date = after_date[after_date['ItemId'].isin(before_date['ItemId'])]\n",
    "    return before_date, after_date"
   ]
  },
  {
   "cell_type": "code",
   "execution_count": 46,
   "metadata": {},
   "outputs": [],
   "source": [
    "def stats_info(datas: pd.DataFrame, status: str):\n",
    "    print(f'* {status} Set Stats Info\\n'\n",
    "          f'\\t Events: {len(datas)}\\n'\n",
    "          f'\\t UserId: {datas[\"UserId\"].nunique()}\\n'\n",
    "          f'\\t Items: {datas[\"ItemId\"].nunique()}\\n'\n",
    "          f'\\t First Time : {dt.datetime(1970, 1, 1)+dt.timedelta(seconds=datas[\"Time\"].min())}\\n'\n",
    "          f'\\t Last Time : {dt.datetime(1970, 1, 1)+dt.timedelta(seconds=datas[\"Time\"].max())}\\n')"
   ]
  },
  {
   "cell_type": "code",
   "execution_count": 47,
   "metadata": {
    "scrolled": false
   },
   "outputs": [
    {
     "name": "stdout",
     "output_type": "stream",
     "text": [
      "* train Set Stats Info\n",
      "\t Events: 17603\n",
      "\t UserId: 537\n",
      "\t Items: 2713\n",
      "\t First Time : 2000-12-31 22:00:19\n",
      "\t Last Time : 2001-01-29 21:58:48\n",
      "\n",
      "* valid Set Stats Info\n",
      "\t Events: 1811\n",
      "\t UserId: 56\n",
      "\t Items: 1256\n",
      "\t First Time : 2001-01-29 22:08:52\n",
      "\t Last Time : 2001-02-01 11:08:35\n",
      "\n",
      "* test Set Stats Info\n",
      "\t Events: 613\n",
      "\t UserId: 56\n",
      "\t Items: 503\n",
      "\t First Time : 2001-02-01 14:06:49\n",
      "\t Last Time : 2001-02-03 23:38:27\n",
      "\n"
     ]
    }
   ],
   "source": [
    "stats_info(tr, 'train')\n",
    "stats_info(val, 'valid')\n",
    "stats_info(test, 'test')"
   ]
  },
  {
   "cell_type": "code",
   "execution_count": 48,
   "metadata": {},
   "outputs": [
    {
     "data": {
      "text/plain": [
       "datetime.timedelta(days=28, seconds=86309)"
      ]
     },
     "execution_count": 48,
     "metadata": {},
     "output_type": "execute_result"
    }
   ],
   "source": [
    "dt.timedelta(seconds=tr[\"Time\"].max())-dt.timedelta(seconds=tr[\"Time\"].min())"
   ]
  },
  {
   "cell_type": "code",
   "execution_count": 49,
   "metadata": {},
   "outputs": [
    {
     "data": {
      "text/plain": [
       "<matplotlib.axes._subplots.AxesSubplot at 0x7f63e4543dd0>"
      ]
     },
     "execution_count": 49,
     "metadata": {},
     "output_type": "execute_result"
    },
    {
     "data": {
      "image/png": "[encoded data removed]",
      "text/plain": [
       "<Figure size 432x288 with 1 Axes>"
      ]
     },
     "metadata": {
      "needs_background": "light"
     },
     "output_type": "display_data"
    }
   ],
   "source": [
    "sns.scatterplot(x=tr[\"Time\"], y=tr[\"UserId\"])"
   ]
  },
  {
   "cell_type": "code",
   "execution_count": 50,
   "metadata": {},
   "outputs": [
    {
     "data": {
      "text/plain": [
       "<matplotlib.axes._subplots.AxesSubplot at 0x7f63e2551d10>"
      ]
     },
     "execution_count": 50,
     "metadata": {},
     "output_type": "execute_result"
    },
    {
     "data": {
      "image/png": "[encoded data removed]",
      "text/plain": [
       "<Figure size 432x288 with 1 Axes>"
      ]
     },
     "metadata": {
      "needs_background": "light"
     },
     "output_type": "display_data"
    }
   ],
   "source": [
    "sns.scatterplot(x=val[\"Time\"], y=val[\"UserId\"])"
   ]
  },
  {
   "cell_type": "code",
   "execution_count": 51,
   "metadata": {},
   "outputs": [
    {
     "data": {
      "text/plain": [
       "<matplotlib.axes._subplots.AxesSubplot at 0x7f63e36bb6d0>"
      ]
     },
     "execution_count": 51,
     "metadata": {},
     "output_type": "execute_result"
    },
    {
     "data": {
      "image/png": "[encoded data removed]",
      "text/plain": [
       "<Figure size 432x288 with 1 Axes>"
      ]
     },
     "metadata": {
      "needs_background": "light"
     },
     "output_type": "display_data"
    }
   ],
   "source": [
    "sns.scatterplot(x=test[\"Time\"], y=test[\"UserId\"])"
   ]
  },
  {
   "cell_type": "code",
   "execution_count": 52,
   "metadata": {},
   "outputs": [],
   "source": [
    "# train set에 없는 아이템이 val, test기간에 생길 수 있으므로 train data를 기준으로 인덱싱합니다.\n",
    "id2idx = {item_id : index for index, item_id in enumerate(tr['ItemId'].unique())}\n",
    "\n",
    "def indexing(df, id2idx):\n",
    "    df['item_idx'] = df['ItemId'].map(lambda x: id2idx.get(x, -1))  # id2idx에 없는 아이템은 모르는 값(-1) 처리 해줍니다.\n",
    "    return df\n",
    "\n",
    "tr = indexing(tr, id2idx)\n",
    "val = indexing(val, id2idx)\n",
    "test = indexing(test, id2idx)"
   ]
  },
  {
   "cell_type": "code",
   "execution_count": 53,
   "metadata": {},
   "outputs": [],
   "source": [
    "tr.drop(\"date\", axis=1, inplace=True)\n",
    "val.drop(\"date\", axis=1, inplace=True)\n",
    "test.drop(\"date\", axis=1, inplace=True)"
   ]
  },
  {
   "cell_type": "code",
   "execution_count": 54,
   "metadata": {},
   "outputs": [],
   "source": [
    "tr.reset_index(drop=True, inplace=True)\n",
    "val.reset_index(drop=True, inplace=True)\n",
    "test.reset_index(drop=True, inplace=True)"
   ]
  },
  {
   "cell_type": "markdown",
   "metadata": {},
   "source": [
    "Pickle 저장"
   ]
  },
  {
   "cell_type": "code",
   "execution_count": 55,
   "metadata": {},
   "outputs": [],
   "source": [
    "save_path = data_path/'processed'\n",
    "save_path.mkdir(parents=True, exist_ok=True)\n",
    "\n",
    "tr.to_pickle(save_path / 'train.pkl')\n",
    "val.to_pickle(save_path / 'valid.pkl')\n",
    "test.to_pickle(save_path / 'test.pkl')"
   ]
  },
  {
   "cell_type": "code",
   "execution_count": 56,
   "metadata": {},
   "outputs": [],
   "source": [
    "class SessionDataset:\n",
    "    \"\"\"Credit to yhs-968/pyGRU4REC.\"\"\"\n",
    "\n",
    "    def __init__(self, data):\n",
    "        self.df = data\n",
    "        self.click_offsets = self.get_click_offsets()\n",
    "        self.session_idx = np.arange(self.df['UserId'].nunique())  # indexing to UserId\n",
    "\n",
    "    def get_click_offsets(self):\n",
    "        \"\"\"\n",
    "        Return the indexes of the first click of each session IDs,\n",
    "        \"\"\"\n",
    "        offsets = np.zeros(self.df['UserId'].nunique() + 1, dtype=np.int32)\n",
    "        offsets[1:] = self.df.groupby('UserId').size().cumsum() #누적합\n",
    "        \n",
    "        return offsets"
   ]
  },
  {
   "cell_type": "code",
   "execution_count": 57,
   "metadata": {
    "scrolled": false
   },
   "outputs": [
    {
     "data": {
      "text/html": [
       "<div>\n",
       "<style scoped>\n",
       "    .dataframe tbody tr th:only-of-type {\n",
       "        vertical-align: middle;\n",
       "    }\n",
       "\n",
       "    .dataframe tbody tr th {\n",
       "        vertical-align: top;\n",
       "    }\n",
       "\n",
       "    .dataframe thead th {\n",
       "        text-align: right;\n",
       "    }\n",
       "</style>\n",
       "<table border=\"1\" class=\"dataframe\">\n",
       "  <thead>\n",
       "    <tr style=\"text-align: right;\">\n",
       "      <th></th>\n",
       "      <th>UserId</th>\n",
       "      <th>ItemId</th>\n",
       "      <th>Time</th>\n",
       "      <th>item_idx</th>\n",
       "    </tr>\n",
       "  </thead>\n",
       "  <tbody>\n",
       "    <tr>\n",
       "      <th>0</th>\n",
       "      <td>1</td>\n",
       "      <td>3186</td>\n",
       "      <td>978300019</td>\n",
       "      <td>0</td>\n",
       "    </tr>\n",
       "    <tr>\n",
       "      <th>1</th>\n",
       "      <td>1</td>\n",
       "      <td>1270</td>\n",
       "      <td>978300055</td>\n",
       "      <td>1</td>\n",
       "    </tr>\n",
       "    <tr>\n",
       "      <th>2</th>\n",
       "      <td>1</td>\n",
       "      <td>1721</td>\n",
       "      <td>978300055</td>\n",
       "      <td>2</td>\n",
       "    </tr>\n",
       "    <tr>\n",
       "      <th>3</th>\n",
       "      <td>1</td>\n",
       "      <td>1022</td>\n",
       "      <td>978300055</td>\n",
       "      <td>3</td>\n",
       "    </tr>\n",
       "    <tr>\n",
       "      <th>4</th>\n",
       "      <td>1</td>\n",
       "      <td>2340</td>\n",
       "      <td>978300103</td>\n",
       "      <td>4</td>\n",
       "    </tr>\n",
       "    <tr>\n",
       "      <th>5</th>\n",
       "      <td>1</td>\n",
       "      <td>1836</td>\n",
       "      <td>978300172</td>\n",
       "      <td>5</td>\n",
       "    </tr>\n",
       "    <tr>\n",
       "      <th>6</th>\n",
       "      <td>1</td>\n",
       "      <td>3408</td>\n",
       "      <td>978300275</td>\n",
       "      <td>6</td>\n",
       "    </tr>\n",
       "    <tr>\n",
       "      <th>7</th>\n",
       "      <td>1</td>\n",
       "      <td>2804</td>\n",
       "      <td>978300719</td>\n",
       "      <td>7</td>\n",
       "    </tr>\n",
       "    <tr>\n",
       "      <th>8</th>\n",
       "      <td>1</td>\n",
       "      <td>1207</td>\n",
       "      <td>978300719</td>\n",
       "      <td>8</td>\n",
       "    </tr>\n",
       "    <tr>\n",
       "      <th>9</th>\n",
       "      <td>1</td>\n",
       "      <td>1193</td>\n",
       "      <td>978300760</td>\n",
       "      <td>9</td>\n",
       "    </tr>\n",
       "  </tbody>\n",
       "</table>\n",
       "</div>"
      ],
      "text/plain": [
       "   UserId  ItemId       Time  item_idx\n",
       "0       1    3186  978300019         0\n",
       "1       1    1270  978300055         1\n",
       "2       1    1721  978300055         2\n",
       "3       1    1022  978300055         3\n",
       "4       1    2340  978300103         4\n",
       "5       1    1836  978300172         5\n",
       "6       1    3408  978300275         6\n",
       "7       1    2804  978300719         7\n",
       "8       1    1207  978300719         8\n",
       "9       1    1193  978300760         9"
      ]
     },
     "execution_count": 57,
     "metadata": {},
     "output_type": "execute_result"
    }
   ],
   "source": [
    "tr_dataset = SessionDataset(tr)\n",
    "tr_dataset.df.head(10)"
   ]
  },
  {
   "cell_type": "code",
   "execution_count": 58,
   "metadata": {},
   "outputs": [],
   "source": [
    "class SessionDataLoader:\n",
    "    \"\"\"Credit to yhs-968/pyGRU4REC.\"\"\"\n",
    "\n",
    "    def __init__(self, dataset: SessionDataset, batch_size=50):\n",
    "        self.dataset = dataset\n",
    "        self.batch_size = batch_size\n",
    "\n",
    "    def __iter__(self):\n",
    "        \"\"\" Returns the iterator for producing session-parallel training mini-batches.\n",
    "        Yields:\n",
    "            input (B,):  Item indices that will be encoded as one-hot vectors later.\n",
    "            target (B,): a Variable that stores the target item indices\n",
    "            masks: Numpy array indicating the positions of the sessions to be terminated\n",
    "        \"\"\"\n",
    "\n",
    "        start, end, mask, last_session, finished = self.initialize()  # initialize 메소드에서 확인해주세요.\n",
    "        \"\"\"\n",
    "        start : Index Where Session Start\n",
    "        end : Index Where Session End\n",
    "        mask : indicator for the sessions to be terminated\n",
    "        \"\"\"\n",
    "\n",
    "        while not finished:\n",
    "            min_len = (end - start).min() - 1  # Shortest Length Among Sessions\n",
    "            for i in range(min_len):\n",
    "                # Build inputs & targets\n",
    "                inp = self.dataset.df['item_idx'].values[start + i]\n",
    "                target = self.dataset.df['item_idx'].values[start + i + 1]\n",
    "                yield inp, target, mask\n",
    "\n",
    "            start, end, mask, last_session, finished = self.update_status(start, end, min_len, last_session, finished)\n",
    "\n",
    "    def initialize(self):\n",
    "        first_iters = np.arange(self.batch_size)    # 첫 배치에 사용할 세션 Index를 가져옵니다.\n",
    "        last_session = self.batch_size - 1    # 마지막으로 다루고 있는 세션 Index를 저장해둡니다.\n",
    "        start = self.dataset.click_offsets[self.dataset.session_idx[first_iters]] # data 상에서 session이 시작된 위치를 가져옵니다.\n",
    "        end = self.dataset.click_offsets[self.dataset.session_idx[first_iters] + 1]  # session이 끝난 위치 바로 다음 위치를 가져옵니다.\n",
    "        mask = np.array([])   # session의 모든 아이템을 다 돌은 경우 mask에 추가해줄 것입니다.\n",
    "        finished = False         # data를 전부 돌았는지 기록하기 위한 변수입니다.\n",
    "        return start, end, mask, last_session, finished\n",
    "\n",
    "    def update_status(self, start: np.ndarray, end: np.ndarray, min_len: int, last_session: int, finished: bool):  \n",
    "        # 다음 배치 데이터를 생성하기 위해 상태를 update합니다.\n",
    "        \n",
    "        start += min_len   # __iter__에서 min_len 만큼 for문을 돌았으므로 start를 min_len 만큼 더해줍니다.\n",
    "        mask = np.arange(self.batch_size)[(end - start) == 1]  \n",
    "        # end는 다음 세션이 시작되는 위치인데 start와 한 칸 차이난다는 것은 session이 끝났다는 뜻입니다. mask에 기록해줍니다.\n",
    "\n",
    "        for i, idx in enumerate(mask, start=1):  # mask에 추가된 세션 개수만큼 새로운 세션을 돌것입니다.\n",
    "            new_session = last_session + i  \n",
    "            if new_session > self.dataset.session_idx[-1]:  # 만약 새로운 세션이 마지막 세션 index보다 크다면 모든 학습데이터를 돈 것입니다.\n",
    "                finished = True\n",
    "                break\n",
    "            # update the next starting/ending point\n",
    "            start[idx] = self.dataset.click_offsets[self.dataset.session_idx[new_session]]     # 종료된 세션 대신 새로운 세션의 시작점을 기록합니다.\n",
    "            end[idx] = self.dataset.click_offsets[self.dataset.session_idx[new_session] + 1]\n",
    "\n",
    "        last_session += len(mask)  # 마지막 세션의 위치를 기록해둡니다.\n",
    "        return start, end, mask, last_session, finished"
   ]
  },
  {
   "cell_type": "code",
   "execution_count": 59,
   "metadata": {
    "scrolled": false
   },
   "outputs": [
    {
     "data": {
      "text/html": [
       "<div>\n",
       "<style scoped>\n",
       "    .dataframe tbody tr th:only-of-type {\n",
       "        vertical-align: middle;\n",
       "    }\n",
       "\n",
       "    .dataframe tbody tr th {\n",
       "        vertical-align: top;\n",
       "    }\n",
       "\n",
       "    .dataframe thead th {\n",
       "        text-align: right;\n",
       "    }\n",
       "</style>\n",
       "<table border=\"1\" class=\"dataframe\">\n",
       "  <thead>\n",
       "    <tr style=\"text-align: right;\">\n",
       "      <th></th>\n",
       "      <th>UserId</th>\n",
       "      <th>ItemId</th>\n",
       "      <th>Time</th>\n",
       "      <th>item_idx</th>\n",
       "    </tr>\n",
       "  </thead>\n",
       "  <tbody>\n",
       "    <tr>\n",
       "      <th>0</th>\n",
       "      <td>1</td>\n",
       "      <td>3186</td>\n",
       "      <td>978300019</td>\n",
       "      <td>0</td>\n",
       "    </tr>\n",
       "    <tr>\n",
       "      <th>1</th>\n",
       "      <td>1</td>\n",
       "      <td>1270</td>\n",
       "      <td>978300055</td>\n",
       "      <td>1</td>\n",
       "    </tr>\n",
       "    <tr>\n",
       "      <th>2</th>\n",
       "      <td>1</td>\n",
       "      <td>1721</td>\n",
       "      <td>978300055</td>\n",
       "      <td>2</td>\n",
       "    </tr>\n",
       "    <tr>\n",
       "      <th>3</th>\n",
       "      <td>1</td>\n",
       "      <td>1022</td>\n",
       "      <td>978300055</td>\n",
       "      <td>3</td>\n",
       "    </tr>\n",
       "    <tr>\n",
       "      <th>4</th>\n",
       "      <td>1</td>\n",
       "      <td>2340</td>\n",
       "      <td>978300103</td>\n",
       "      <td>4</td>\n",
       "    </tr>\n",
       "    <tr>\n",
       "      <th>5</th>\n",
       "      <td>1</td>\n",
       "      <td>1836</td>\n",
       "      <td>978300172</td>\n",
       "      <td>5</td>\n",
       "    </tr>\n",
       "    <tr>\n",
       "      <th>6</th>\n",
       "      <td>1</td>\n",
       "      <td>3408</td>\n",
       "      <td>978300275</td>\n",
       "      <td>6</td>\n",
       "    </tr>\n",
       "    <tr>\n",
       "      <th>7</th>\n",
       "      <td>1</td>\n",
       "      <td>2804</td>\n",
       "      <td>978300719</td>\n",
       "      <td>7</td>\n",
       "    </tr>\n",
       "    <tr>\n",
       "      <th>8</th>\n",
       "      <td>1</td>\n",
       "      <td>1207</td>\n",
       "      <td>978300719</td>\n",
       "      <td>8</td>\n",
       "    </tr>\n",
       "    <tr>\n",
       "      <th>9</th>\n",
       "      <td>1</td>\n",
       "      <td>1193</td>\n",
       "      <td>978300760</td>\n",
       "      <td>9</td>\n",
       "    </tr>\n",
       "    <tr>\n",
       "      <th>10</th>\n",
       "      <td>1</td>\n",
       "      <td>720</td>\n",
       "      <td>978300760</td>\n",
       "      <td>10</td>\n",
       "    </tr>\n",
       "    <tr>\n",
       "      <th>11</th>\n",
       "      <td>1</td>\n",
       "      <td>260</td>\n",
       "      <td>978300760</td>\n",
       "      <td>11</td>\n",
       "    </tr>\n",
       "    <tr>\n",
       "      <th>12</th>\n",
       "      <td>1</td>\n",
       "      <td>919</td>\n",
       "      <td>978301368</td>\n",
       "      <td>12</td>\n",
       "    </tr>\n",
       "    <tr>\n",
       "      <th>13</th>\n",
       "      <td>1</td>\n",
       "      <td>608</td>\n",
       "      <td>978301398</td>\n",
       "      <td>13</td>\n",
       "    </tr>\n",
       "    <tr>\n",
       "      <th>14</th>\n",
       "      <td>1</td>\n",
       "      <td>2692</td>\n",
       "      <td>978301570</td>\n",
       "      <td>14</td>\n",
       "    </tr>\n",
       "  </tbody>\n",
       "</table>\n",
       "</div>"
      ],
      "text/plain": [
       "    UserId  ItemId       Time  item_idx\n",
       "0        1    3186  978300019         0\n",
       "1        1    1270  978300055         1\n",
       "2        1    1721  978300055         2\n",
       "3        1    1022  978300055         3\n",
       "4        1    2340  978300103         4\n",
       "5        1    1836  978300172         5\n",
       "6        1    3408  978300275         6\n",
       "7        1    2804  978300719         7\n",
       "8        1    1207  978300719         8\n",
       "9        1    1193  978300760         9\n",
       "10       1     720  978300760        10\n",
       "11       1     260  978300760        11\n",
       "12       1     919  978301368        12\n",
       "13       1     608  978301398        13\n",
       "14       1    2692  978301570        14"
      ]
     },
     "execution_count": 59,
     "metadata": {},
     "output_type": "execute_result"
    }
   ],
   "source": [
    "tr_data_loader = SessionDataLoader(tr_dataset, batch_size=32)\n",
    "tr_dataset.df.head(15)"
   ]
  },
  {
   "cell_type": "code",
   "execution_count": 60,
   "metadata": {},
   "outputs": [],
   "source": [
    "iter_ex = iter(tr_data_loader)"
   ]
  },
  {
   "cell_type": "code",
   "execution_count": 61,
   "metadata": {},
   "outputs": [
    {
     "name": "stdout",
     "output_type": "stream",
     "text": [
      "Model Input Item Idx are : [  0  53  67 156 811 226 316 340  45 531 343 154 878  74 648 175 124  97\n",
      " 668 373 343 727   7 753  11 185 344 760 463 384 808  11]\n",
      "Label Item Idx are :       [   1   54   68  157  352  227  317  341    7  118  340  537  879 1019\n",
      "  136  357  346   88  669  721  173    2   41    6   87  758  750  187\n",
      "  804  517  809  504]\n",
      "Previous Masked Input Idx are [ 4 12 13 16 26]\n"
     ]
    }
   ],
   "source": [
    "inputs, labels, mask =  next(iter_ex)\n",
    "print(f'Model Input Item Idx are : {inputs}')\n",
    "print(f'Label Item Idx are : {\"\":5} {labels}')\n",
    "print(f'Previous Masked Input Idx are {mask}')"
   ]
  },
  {
   "cell_type": "code",
   "execution_count": 62,
   "metadata": {},
   "outputs": [],
   "source": [
    "def mrr_k(pred, truth: int, k: int):\n",
    "    indexing = np.where(pred[:k] == truth)[0]\n",
    "    if len(indexing) > 0:\n",
    "        return 1 / (indexing[0] + 1)\n",
    "    else:\n",
    "        return 0\n",
    "\n",
    "\n",
    "def recall_k(pred, truth: int, k: int) -> int:\n",
    "    answer = truth in pred[:k]\n",
    "    return int(answer)"
   ]
  },
  {
   "cell_type": "code",
   "execution_count": 63,
   "metadata": {},
   "outputs": [],
   "source": [
    "def create_model(args):\n",
    "    inputs = Input(batch_shape=(args.batch_size, 1, args.num_items))\n",
    "    gru, _ = GRU(args.hsz, stateful=True, return_state=True, name='GRU')(inputs)\n",
    "    dropout = Dropout(args.drop_rate)(gru)\n",
    "    predictions = Dense(args.num_items, activation='softmax')(dropout)\n",
    "    model = Model(inputs=inputs, outputs=[predictions])\n",
    "    model.compile(loss=categorical_crossentropy, optimizer=Adam(args.lr), metrics=['accuracy'])\n",
    "    model.summary()\n",
    "    return model"
   ]
  },
  {
   "cell_type": "code",
   "execution_count": 64,
   "metadata": {},
   "outputs": [],
   "source": [
    "class Args:\n",
    "    def __init__(self, tr, val, test, batch_size, hsz, drop_rate, lr, epochs, k):\n",
    "        self.tr = tr\n",
    "        self.val = val\n",
    "        self.test = test\n",
    "        self.num_items = tr['ItemId'].nunique()\n",
    "        self.num_sessions = tr['UserId'].nunique()\n",
    "        self.batch_size = batch_size\n",
    "        self.hsz = hsz\n",
    "        self.drop_rate = drop_rate\n",
    "        self.lr = lr\n",
    "        self.epochs = epochs\n",
    "        self.k = k\n",
    "\n",
    "args = Args(tr, val, test, batch_size=32, hsz=50, drop_rate=0.5, lr=0.001, epochs=50, k=20)"
   ]
  },
  {
   "cell_type": "code",
   "execution_count": 65,
   "metadata": {},
   "outputs": [
    {
     "name": "stdout",
     "output_type": "stream",
     "text": [
      "Model: \"functional_1\"\n",
      "_________________________________________________________________\n",
      "Layer (type)                 Output Shape              Param #   \n",
      "=================================================================\n",
      "input_1 (InputLayer)         [(32, 1, 2713)]           0         \n",
      "_________________________________________________________________\n",
      "GRU (GRU)                    [(32, 50), (32, 50)]      414750    \n",
      "_________________________________________________________________\n",
      "dropout (Dropout)            (32, 50)                  0         \n",
      "_________________________________________________________________\n",
      "dense (Dense)                (32, 2713)                138363    \n",
      "=================================================================\n",
      "Total params: 553,113\n",
      "Trainable params: 553,113\n",
      "Non-trainable params: 0\n",
      "_________________________________________________________________\n"
     ]
    }
   ],
   "source": [
    "model = create_model(args)"
   ]
  },
  {
   "cell_type": "code",
   "execution_count": 66,
   "metadata": {},
   "outputs": [],
   "source": [
    "# train 셋으로 학습하면서 valid 셋으로 검증합니다.\n",
    "def train_model(model, args):\n",
    "    train_dataset = SessionDataset(args.tr)\n",
    "    train_loader = SessionDataLoader(train_dataset, batch_size=args.batch_size)\n",
    "\n",
    "    for epoch in range(1, args.epochs + 1):\n",
    "        total_step = len(args.tr) - args.tr['UserId'].nunique()\n",
    "        tr_loader = tqdm(train_loader, total=total_step // args.batch_size, desc='Train', mininterval=1)\n",
    "        for feat, target, mask in tr_loader:\n",
    "            reset_hidden_states(model, mask)  # 종료된 session은 hidden_state를 초기화합니다. 아래 메서드에서 확인해주세요.\n",
    "\n",
    "            input_ohe = to_categorical(feat, num_classes=args.num_items)\n",
    "            input_ohe = np.expand_dims(input_ohe, axis=1)\n",
    "            target_ohe = to_categorical(target, num_classes=args.num_items)\n",
    "\n",
    "            result = model.train_on_batch(input_ohe, target_ohe)\n",
    "            tr_loader.set_postfix(train_loss=result[0], accuracy = result[1])\n",
    "\n",
    "        val_recall, val_mrr = get_metrics(args.val, model, args, args.k)  # valid set에 대해 검증합니다.\n",
    "\n",
    "        print(f\"\\t - Recall@{args.k} epoch {epoch}: {val_recall:3f}\")\n",
    "        print(f\"\\t - MRR@{args.k}    epoch {epoch}: {val_mrr:3f}\\n\")\n",
    "\n",
    "\n",
    "def reset_hidden_states(model, mask):\n",
    "    gru_layer = model.get_layer(name='GRU')  # model에서 gru layer를 가져옵니다.\n",
    "    hidden_states = gru_layer.states[0].numpy()  # gru_layer의 parameter를 가져옵니다.\n",
    "    for elt in mask:  # mask된 인덱스 즉, 종료된 세션의 인덱스를 돌면서\n",
    "        hidden_states[elt, :] = 0  # parameter를 초기화 합니다.\n",
    "    gru_layer.reset_states(states=hidden_states)\n",
    "\n",
    "\n",
    "def get_metrics(data, model, args, k: int):  # valid셋과 test셋을 평가하는 코드입니다. \n",
    "                                             # train과 거의 같지만 mrr, recall을 구하는 라인이 있습니다.\n",
    "    dataset = SessionDataset(data)\n",
    "    loader = SessionDataLoader(dataset, batch_size=args.batch_size)\n",
    "    recall_list, mrr_list = [], []\n",
    "\n",
    "    total_step = len(data) - data['UserId'].nunique()\n",
    "    for inputs, label, mask in tqdm(loader, total=total_step // args.batch_size, desc='Evaluation', mininterval=1):\n",
    "        reset_hidden_states(model, mask)\n",
    "        input_ohe = to_categorical(inputs, num_classes=args.num_items)\n",
    "        input_ohe = np.expand_dims(input_ohe, axis=1)\n",
    "\n",
    "        pred = model.predict(input_ohe, batch_size=args.batch_size)\n",
    "        pred_arg = tf.argsort(pred, direction='DESCENDING')  # softmax 값이 큰 순서대로 sorting 합니다.\n",
    "\n",
    "        length = len(inputs)\n",
    "        recall_list.extend([recall_k(pred_arg[i], label[i], k) for i in range(length)])\n",
    "        mrr_list.extend([mrr_k(pred_arg[i], label[i], k) for i in range(length)])\n",
    "\n",
    "    recall, mrr = np.mean(recall_list), np.mean(mrr_list)\n",
    "    return recall, mrr"
   ]
  },
  {
   "cell_type": "code",
   "execution_count": 67,
   "metadata": {
    "scrolled": true
   },
   "outputs": [
    {
     "name": "stderr",
     "output_type": "stream",
     "text": [
      "Train:  86%|████████▋ | 460/533 [00:03<00:00, 126.00it/s, accuracy=0, train_loss=7.33]    \n",
      "Evaluation:   2%|▏         | 1/54 [00:00<00:13,  4.01it/s]\n",
      "Train:   0%|          | 0/533 [00:00<?, ?it/s, accuracy=0, train_loss=7.16]     "
     ]
    },
    {
     "name": "stdout",
     "output_type": "stream",
     "text": [
      "\t - Recall@20 epoch 1: 0.125000\n",
      "\t - MRR@20    epoch 1: 0.019661\n",
      "\n"
     ]
    },
    {
     "name": "stderr",
     "output_type": "stream",
     "text": [
      "Train:  86%|████████▋ | 460/533 [00:02<00:00, 185.98it/s, accuracy=0, train_loss=7.19]     \n",
      "Evaluation:   2%|▏         | 1/54 [00:00<00:05,  9.72it/s]\n",
      "Train:   0%|          | 0/533 [00:00<?, ?it/s, accuracy=0, train_loss=7.32]     "
     ]
    },
    {
     "name": "stdout",
     "output_type": "stream",
     "text": [
      "\t - Recall@20 epoch 2: 0.125000\n",
      "\t - MRR@20    epoch 2: 0.024279\n",
      "\n"
     ]
    },
    {
     "name": "stderr",
     "output_type": "stream",
     "text": [
      "Train:  86%|████████▋ | 460/533 [00:02<00:00, 188.33it/s, accuracy=0, train_loss=7.07]     \n",
      "Evaluation:   2%|▏         | 1/54 [00:00<00:05, 10.38it/s]\n",
      "Train:   0%|          | 0/533 [00:00<?, ?it/s, accuracy=0, train_loss=7.16]     "
     ]
    },
    {
     "name": "stdout",
     "output_type": "stream",
     "text": [
      "\t - Recall@20 epoch 3: 0.125000\n",
      "\t - MRR@20    epoch 3: 0.019308\n",
      "\n"
     ]
    },
    {
     "name": "stderr",
     "output_type": "stream",
     "text": [
      "Train:  86%|████████▋ | 460/533 [00:02<00:00, 185.35it/s, accuracy=0, train_loss=6.96]     \n",
      "Evaluation:   2%|▏         | 1/54 [00:00<00:05,  9.92it/s]\n",
      "Train:   0%|          | 0/533 [00:00<?, ?it/s, accuracy=0, train_loss=7.17]     "
     ]
    },
    {
     "name": "stdout",
     "output_type": "stream",
     "text": [
      "\t - Recall@20 epoch 4: 0.156250\n",
      "\t - MRR@20    epoch 4: 0.026361\n",
      "\n"
     ]
    },
    {
     "name": "stderr",
     "output_type": "stream",
     "text": [
      "Train:  86%|████████▋ | 460/533 [00:02<00:00, 182.48it/s, accuracy=0, train_loss=6.88]     \n",
      "Evaluation:   2%|▏         | 1/54 [00:00<00:05, 10.07it/s]\n",
      "Train:   0%|          | 0/533 [00:00<?, ?it/s, accuracy=0, train_loss=7.14]     "
     ]
    },
    {
     "name": "stdout",
     "output_type": "stream",
     "text": [
      "\t - Recall@20 epoch 5: 0.156250\n",
      "\t - MRR@20    epoch 5: 0.020549\n",
      "\n"
     ]
    },
    {
     "name": "stderr",
     "output_type": "stream",
     "text": [
      "Train:  86%|████████▋ | 460/533 [00:02<00:00, 189.97it/s, accuracy=0.0312, train_loss=6.88]\n",
      "Evaluation:   2%|▏         | 1/54 [00:00<00:05, 10.41it/s]\n",
      "Train:   0%|          | 0/533 [00:00<?, ?it/s, accuracy=0, train_loss=6.86]     "
     ]
    },
    {
     "name": "stdout",
     "output_type": "stream",
     "text": [
      "\t - Recall@20 epoch 6: 0.156250\n",
      "\t - MRR@20    epoch 6: 0.024826\n",
      "\n"
     ]
    },
    {
     "name": "stderr",
     "output_type": "stream",
     "text": [
      "Train:  86%|████████▋ | 460/533 [00:02<00:00, 172.64it/s, accuracy=0, train_loss=6.68]     \n",
      "Evaluation:   2%|▏         | 1/54 [00:00<00:05, 10.06it/s]\n",
      "Train:   0%|          | 0/533 [00:00<?, ?it/s, accuracy=0, train_loss=7.04]     "
     ]
    },
    {
     "name": "stdout",
     "output_type": "stream",
     "text": [
      "\t - Recall@20 epoch 7: 0.125000\n",
      "\t - MRR@20    epoch 7: 0.021740\n",
      "\n"
     ]
    },
    {
     "name": "stderr",
     "output_type": "stream",
     "text": [
      "Train:  86%|████████▋ | 460/533 [00:02<00:00, 186.15it/s, accuracy=0, train_loss=6.59]     \n",
      "Evaluation:   2%|▏         | 1/54 [00:00<00:05,  9.19it/s]\n",
      "Train:   0%|          | 0/533 [00:00<?, ?it/s, accuracy=0, train_loss=6.98]     "
     ]
    },
    {
     "name": "stdout",
     "output_type": "stream",
     "text": [
      "\t - Recall@20 epoch 8: 0.125000\n",
      "\t - MRR@20    epoch 8: 0.024138\n",
      "\n"
     ]
    },
    {
     "name": "stderr",
     "output_type": "stream",
     "text": [
      "Train:  86%|████████▋ | 460/533 [00:02<00:00, 180.31it/s, accuracy=0.0625, train_loss=6.55]\n",
      "Evaluation:   2%|▏         | 1/54 [00:00<00:05,  9.81it/s]\n",
      "Train:   0%|          | 0/533 [00:00<?, ?it/s, accuracy=0, train_loss=6.87]     "
     ]
    },
    {
     "name": "stdout",
     "output_type": "stream",
     "text": [
      "\t - Recall@20 epoch 9: 0.125000\n",
      "\t - MRR@20    epoch 9: 0.041383\n",
      "\n"
     ]
    },
    {
     "name": "stderr",
     "output_type": "stream",
     "text": [
      "Train:  86%|████████▋ | 460/533 [00:02<00:00, 168.62it/s, accuracy=0.0312, train_loss=6.32]\n",
      "Evaluation:   2%|▏         | 1/54 [00:00<00:05,  9.77it/s]\n",
      "Train:   0%|          | 0/533 [00:00<?, ?it/s, accuracy=0, train_loss=6.58]     "
     ]
    },
    {
     "name": "stdout",
     "output_type": "stream",
     "text": [
      "\t - Recall@20 epoch 10: 0.125000\n",
      "\t - MRR@20    epoch 10: 0.043204\n",
      "\n"
     ]
    },
    {
     "name": "stderr",
     "output_type": "stream",
     "text": [
      "Train:  86%|████████▋ | 460/533 [00:02<00:00, 182.71it/s, accuracy=0.0312, train_loss=6.16]\n",
      "Evaluation:   2%|▏         | 1/54 [00:00<00:05, 10.20it/s]\n",
      "Train:   0%|          | 0/533 [00:00<?, ?it/s, accuracy=0.125, train_loss=6.63] "
     ]
    },
    {
     "name": "stdout",
     "output_type": "stream",
     "text": [
      "\t - Recall@20 epoch 11: 0.125000\n",
      "\t - MRR@20    epoch 11: 0.044508\n",
      "\n"
     ]
    },
    {
     "name": "stderr",
     "output_type": "stream",
     "text": [
      "Train:  86%|████████▋ | 460/533 [00:02<00:00, 195.60it/s, accuracy=0.0312, train_loss=6.02]\n",
      "Evaluation:   2%|▏         | 1/54 [00:00<00:05,  9.94it/s]\n",
      "Train:   0%|          | 0/533 [00:00<?, ?it/s, accuracy=0, train_loss=6.78]     "
     ]
    },
    {
     "name": "stdout",
     "output_type": "stream",
     "text": [
      "\t - Recall@20 epoch 12: 0.156250\n",
      "\t - MRR@20    epoch 12: 0.043180\n",
      "\n"
     ]
    },
    {
     "name": "stderr",
     "output_type": "stream",
     "text": [
      "Train:  86%|████████▋ | 460/533 [00:02<00:00, 199.16it/s, accuracy=0, train_loss=6.11]     \n",
      "Evaluation:   2%|▏         | 1/54 [00:00<00:05, 10.36it/s]\n",
      "Train:   0%|          | 0/533 [00:00<?, ?it/s, accuracy=0.0625, train_loss=6.26]"
     ]
    },
    {
     "name": "stdout",
     "output_type": "stream",
     "text": [
      "\t - Recall@20 epoch 13: 0.156250\n",
      "\t - MRR@20    epoch 13: 0.045376\n",
      "\n"
     ]
    },
    {
     "name": "stderr",
     "output_type": "stream",
     "text": [
      "Train:  86%|████████▋ | 460/533 [00:02<00:00, 184.88it/s, accuracy=0.0312, train_loss=5.86]\n",
      "Evaluation:   2%|▏         | 1/54 [00:00<00:05,  9.99it/s]\n",
      "Train:   0%|          | 0/533 [00:00<?, ?it/s, accuracy=0.0938, train_loss=6.42]"
     ]
    },
    {
     "name": "stdout",
     "output_type": "stream",
     "text": [
      "\t - Recall@20 epoch 14: 0.156250\n",
      "\t - MRR@20    epoch 14: 0.029872\n",
      "\n"
     ]
    },
    {
     "name": "stderr",
     "output_type": "stream",
     "text": [
      "Train:  86%|████████▋ | 460/533 [00:02<00:00, 184.44it/s, accuracy=0, train_loss=5.76]     \n",
      "Evaluation:   2%|▏         | 1/54 [00:00<00:06,  8.47it/s]\n",
      "Train:   0%|          | 0/533 [00:00<?, ?it/s, accuracy=0.0938, train_loss=5.83]"
     ]
    },
    {
     "name": "stdout",
     "output_type": "stream",
     "text": [
      "\t - Recall@20 epoch 15: 0.125000\n",
      "\t - MRR@20    epoch 15: 0.031771\n",
      "\n"
     ]
    },
    {
     "name": "stderr",
     "output_type": "stream",
     "text": [
      "Train:  86%|████████▋ | 460/533 [00:02<00:00, 170.73it/s, accuracy=0.0938, train_loss=5.67]\n",
      "Evaluation:   2%|▏         | 1/54 [00:00<00:05,  9.51it/s]\n",
      "Train:   0%|          | 0/533 [00:00<?, ?it/s, accuracy=0.0938, train_loss=6.34]"
     ]
    },
    {
     "name": "stdout",
     "output_type": "stream",
     "text": [
      "\t - Recall@20 epoch 16: 0.156250\n",
      "\t - MRR@20    epoch 16: 0.067294\n",
      "\n"
     ]
    },
    {
     "name": "stderr",
     "output_type": "stream",
     "text": [
      "Train:  86%|████████▋ | 460/533 [00:02<00:00, 180.33it/s, accuracy=0.0312, train_loss=5.64]\n",
      "Evaluation:   2%|▏         | 1/54 [00:00<00:05, 10.39it/s]\n",
      "Train:   0%|          | 0/533 [00:00<?, ?it/s, accuracy=0.0625, train_loss=6.18]"
     ]
    },
    {
     "name": "stdout",
     "output_type": "stream",
     "text": [
      "\t - Recall@20 epoch 17: 0.187500\n",
      "\t - MRR@20    epoch 17: 0.041383\n",
      "\n"
     ]
    },
    {
     "name": "stderr",
     "output_type": "stream",
     "text": [
      "Train:  86%|████████▋ | 460/533 [00:02<00:00, 163.86it/s, accuracy=0.125, train_loss=5.45] \n",
      "Evaluation:   2%|▏         | 1/54 [00:00<00:05,  9.14it/s]\n",
      "Train:   0%|          | 0/533 [00:00<?, ?it/s, accuracy=0.0625, train_loss=5.91]"
     ]
    },
    {
     "name": "stdout",
     "output_type": "stream",
     "text": [
      "\t - Recall@20 epoch 18: 0.187500\n",
      "\t - MRR@20    epoch 18: 0.039145\n",
      "\n"
     ]
    },
    {
     "name": "stderr",
     "output_type": "stream",
     "text": [
      "Train:  86%|████████▋ | 460/533 [00:02<00:00, 180.91it/s, accuracy=0.0938, train_loss=5.34]\n",
      "Evaluation:   2%|▏         | 1/54 [00:00<00:05, 10.57it/s]\n",
      "Train:   0%|          | 0/533 [00:00<?, ?it/s, accuracy=0.156, train_loss=5.35] "
     ]
    },
    {
     "name": "stdout",
     "output_type": "stream",
     "text": [
      "\t - Recall@20 epoch 19: 0.187500\n",
      "\t - MRR@20    epoch 19: 0.056068\n",
      "\n"
     ]
    },
    {
     "name": "stderr",
     "output_type": "stream",
     "text": [
      "Train:  86%|████████▋ | 460/533 [00:02<00:00, 181.52it/s, accuracy=0.125, train_loss=5.37] \n",
      "Evaluation:   2%|▏         | 1/54 [00:00<00:05,  9.21it/s]\n",
      "Train:   0%|          | 0/533 [00:00<?, ?it/s, accuracy=0, train_loss=5.69]     "
     ]
    },
    {
     "name": "stdout",
     "output_type": "stream",
     "text": [
      "\t - Recall@20 epoch 20: 0.156250\n",
      "\t - MRR@20    epoch 20: 0.042969\n",
      "\n"
     ]
    },
    {
     "name": "stderr",
     "output_type": "stream",
     "text": [
      "Train:  86%|████████▋ | 460/533 [00:02<00:00, 186.29it/s, accuracy=0.0938, train_loss=5.14]\n",
      "Evaluation:   2%|▏         | 1/54 [00:00<00:05, 10.06it/s]\n",
      "Train:   0%|          | 0/533 [00:00<?, ?it/s, accuracy=0.188, train_loss=5.19] "
     ]
    },
    {
     "name": "stdout",
     "output_type": "stream",
     "text": [
      "\t - Recall@20 epoch 21: 0.187500\n",
      "\t - MRR@20    epoch 21: 0.037843\n",
      "\n"
     ]
    },
    {
     "name": "stderr",
     "output_type": "stream",
     "text": [
      "Train:  86%|████████▋ | 460/533 [00:02<00:00, 192.46it/s, accuracy=0.0938, train_loss=5.17]\n",
      "Evaluation:   2%|▏         | 1/54 [00:00<00:05, 10.03it/s]\n",
      "Train:   0%|          | 0/533 [00:00<?, ?it/s, accuracy=0.188, train_loss=5.14] "
     ]
    },
    {
     "name": "stdout",
     "output_type": "stream",
     "text": [
      "\t - Recall@20 epoch 22: 0.187500\n",
      "\t - MRR@20    epoch 22: 0.035764\n",
      "\n"
     ]
    },
    {
     "name": "stderr",
     "output_type": "stream",
     "text": [
      "Train:  86%|████████▋ | 460/533 [00:02<00:00, 195.47it/s, accuracy=0.0938, train_loss=5.22]\n",
      "Evaluation:   2%|▏         | 1/54 [00:00<00:05, 10.14it/s]\n",
      "Train:   0%|          | 0/533 [00:00<?, ?it/s, accuracy=0.0938, train_loss=5.65]"
     ]
    },
    {
     "name": "stdout",
     "output_type": "stream",
     "text": [
      "\t - Recall@20 epoch 23: 0.187500\n",
      "\t - MRR@20    epoch 23: 0.054334\n",
      "\n"
     ]
    },
    {
     "name": "stderr",
     "output_type": "stream",
     "text": [
      "Train:  86%|████████▋ | 460/533 [00:02<00:00, 193.09it/s, accuracy=0.219, train_loss=5.01] \n",
      "Evaluation:   2%|▏         | 1/54 [00:00<00:05,  9.79it/s]\n",
      "Train:   0%|          | 0/533 [00:00<?, ?it/s, accuracy=0.0938, train_loss=5.31]"
     ]
    },
    {
     "name": "stdout",
     "output_type": "stream",
     "text": [
      "\t - Recall@20 epoch 24: 0.187500\n",
      "\t - MRR@20    epoch 24: 0.055159\n",
      "\n"
     ]
    },
    {
     "name": "stderr",
     "output_type": "stream",
     "text": [
      "Train:  86%|████████▋ | 460/533 [00:02<00:00, 192.36it/s, accuracy=0.188, train_loss=4.67] \n",
      "Evaluation:   2%|▏         | 1/54 [00:00<00:05, 10.03it/s]\n",
      "Train:   0%|          | 0/533 [00:00<?, ?it/s, accuracy=0.219, train_loss=4.43] "
     ]
    },
    {
     "name": "stdout",
     "output_type": "stream",
     "text": [
      "\t - Recall@20 epoch 25: 0.187500\n",
      "\t - MRR@20    epoch 25: 0.054249\n",
      "\n"
     ]
    },
    {
     "name": "stderr",
     "output_type": "stream",
     "text": [
      "Train:  86%|████████▋ | 460/533 [00:02<00:00, 192.19it/s, accuracy=0.188, train_loss=4.69] \n",
      "Evaluation:   2%|▏         | 1/54 [00:00<00:05,  9.70it/s]\n",
      "Train:   0%|          | 0/533 [00:00<?, ?it/s, accuracy=0.219, train_loss=4.91] "
     ]
    },
    {
     "name": "stdout",
     "output_type": "stream",
     "text": [
      "\t - Recall@20 epoch 26: 0.187500\n",
      "\t - MRR@20    epoch 26: 0.055506\n",
      "\n"
     ]
    },
    {
     "name": "stderr",
     "output_type": "stream",
     "text": [
      "Train:  86%|████████▋ | 460/533 [00:02<00:00, 191.68it/s, accuracy=0.0938, train_loss=4.8] \n",
      "Evaluation:   2%|▏         | 1/54 [00:00<00:04, 10.63it/s]\n",
      "Train:   0%|          | 0/533 [00:00<?, ?it/s, accuracy=0, train_loss=4.84]     "
     ]
    },
    {
     "name": "stdout",
     "output_type": "stream",
     "text": [
      "\t - Recall@20 epoch 27: 0.187500\n",
      "\t - MRR@20    epoch 27: 0.050053\n",
      "\n"
     ]
    },
    {
     "name": "stderr",
     "output_type": "stream",
     "text": [
      "Train:  86%|████████▋ | 460/533 [00:02<00:00, 177.10it/s, accuracy=0.188, train_loss=4.76] \n",
      "Evaluation:   2%|▏         | 1/54 [00:00<00:05,  9.62it/s]\n",
      "Train:   0%|          | 0/533 [00:00<?, ?it/s, accuracy=0.188, train_loss=4.99] "
     ]
    },
    {
     "name": "stdout",
     "output_type": "stream",
     "text": [
      "\t - Recall@20 epoch 28: 0.218750\n",
      "\t - MRR@20    epoch 28: 0.035706\n",
      "\n"
     ]
    },
    {
     "name": "stderr",
     "output_type": "stream",
     "text": [
      "Train:  86%|████████▋ | 460/533 [00:02<00:00, 177.85it/s, accuracy=0.188, train_loss=4.32] \n",
      "Evaluation:   2%|▏         | 1/54 [00:00<00:05,  9.40it/s]\n",
      "Train:   0%|          | 0/533 [00:00<?, ?it/s, accuracy=0.375, train_loss=4.2]  "
     ]
    },
    {
     "name": "stdout",
     "output_type": "stream",
     "text": [
      "\t - Recall@20 epoch 29: 0.218750\n",
      "\t - MRR@20    epoch 29: 0.035601\n",
      "\n"
     ]
    },
    {
     "name": "stderr",
     "output_type": "stream",
     "text": [
      "Train:  86%|████████▋ | 460/533 [00:02<00:00, 194.48it/s, accuracy=0.156, train_loss=4.59] \n",
      "Evaluation:   2%|▏         | 1/54 [00:00<00:05, 10.49it/s]\n",
      "Train:   0%|          | 0/533 [00:00<?, ?it/s, accuracy=0.156, train_loss=4.89] "
     ]
    },
    {
     "name": "stdout",
     "output_type": "stream",
     "text": [
      "\t - Recall@20 epoch 30: 0.187500\n",
      "\t - MRR@20    epoch 30: 0.050409\n",
      "\n"
     ]
    },
    {
     "name": "stderr",
     "output_type": "stream",
     "text": [
      "Train:  86%|████████▋ | 460/533 [00:02<00:00, 199.07it/s, accuracy=0.219, train_loss=4.34] \n",
      "Evaluation:   2%|▏         | 1/54 [00:00<00:05, 10.20it/s]\n",
      "Train:   0%|          | 0/533 [00:00<?, ?it/s, accuracy=0.156, train_loss=4.09] "
     ]
    },
    {
     "name": "stdout",
     "output_type": "stream",
     "text": [
      "\t - Recall@20 epoch 31: 0.187500\n",
      "\t - MRR@20    epoch 31: 0.049640\n",
      "\n"
     ]
    },
    {
     "name": "stderr",
     "output_type": "stream",
     "text": [
      "Train:  86%|████████▋ | 460/533 [00:02<00:00, 191.06it/s, accuracy=0.188, train_loss=4.27] \n",
      "Evaluation:   2%|▏         | 1/54 [00:00<00:05, 10.59it/s]\n",
      "Train:   0%|          | 0/533 [00:00<?, ?it/s, accuracy=0.125, train_loss=4.68] "
     ]
    },
    {
     "name": "stdout",
     "output_type": "stream",
     "text": [
      "\t - Recall@20 epoch 32: 0.187500\n",
      "\t - MRR@20    epoch 32: 0.036285\n",
      "\n"
     ]
    },
    {
     "name": "stderr",
     "output_type": "stream",
     "text": [
      "Train:  86%|████████▋ | 460/533 [00:02<00:00, 192.06it/s, accuracy=0.156, train_loss=4.78] \n",
      "Evaluation:   2%|▏         | 1/54 [00:00<00:04, 10.70it/s]\n",
      "Train:   0%|          | 0/533 [00:00<?, ?it/s, accuracy=0.156, train_loss=4.63] "
     ]
    },
    {
     "name": "stdout",
     "output_type": "stream",
     "text": [
      "\t - Recall@20 epoch 33: 0.187500\n",
      "\t - MRR@20    epoch 33: 0.050260\n",
      "\n"
     ]
    },
    {
     "name": "stderr",
     "output_type": "stream",
     "text": [
      "Train:  86%|████████▋ | 460/533 [00:02<00:00, 191.06it/s, accuracy=0.0625, train_loss=4.68]\n",
      "Evaluation:   2%|▏         | 1/54 [00:00<00:05, 10.02it/s]\n",
      "Train:   0%|          | 0/533 [00:00<?, ?it/s, accuracy=0.156, train_loss=4.5]  "
     ]
    },
    {
     "name": "stdout",
     "output_type": "stream",
     "text": [
      "\t - Recall@20 epoch 34: 0.187500\n",
      "\t - MRR@20    epoch 34: 0.049195\n",
      "\n"
     ]
    },
    {
     "name": "stderr",
     "output_type": "stream",
     "text": [
      "Train:  86%|████████▋ | 460/533 [00:02<00:00, 175.64it/s, accuracy=0.156, train_loss=4.3]  \n",
      "Evaluation:   2%|▏         | 1/54 [00:00<00:06,  8.31it/s]\n",
      "Train:   0%|          | 0/533 [00:00<?, ?it/s, accuracy=0.219, train_loss=4.73] "
     ]
    },
    {
     "name": "stdout",
     "output_type": "stream",
     "text": [
      "\t - Recall@20 epoch 35: 0.187500\n",
      "\t - MRR@20    epoch 35: 0.034003\n",
      "\n"
     ]
    },
    {
     "name": "stderr",
     "output_type": "stream",
     "text": [
      "Train:  86%|████████▋ | 460/533 [00:02<00:00, 192.61it/s, accuracy=0.156, train_loss=4.17] \n",
      "Evaluation:   2%|▏         | 1/54 [00:00<00:06,  7.75it/s]\n",
      "Train:   0%|          | 0/533 [00:00<?, ?it/s, accuracy=0.344, train_loss=4.02] "
     ]
    },
    {
     "name": "stdout",
     "output_type": "stream",
     "text": [
      "\t - Recall@20 epoch 36: 0.187500\n",
      "\t - MRR@20    epoch 36: 0.033496\n",
      "\n"
     ]
    },
    {
     "name": "stderr",
     "output_type": "stream",
     "text": [
      "Train:  86%|████████▋ | 460/533 [00:02<00:00, 193.03it/s, accuracy=0.219, train_loss=4.29] \n",
      "Evaluation:   2%|▏         | 1/54 [00:00<00:05,  9.37it/s]\n",
      "Train:   0%|          | 0/533 [00:00<?, ?it/s, accuracy=0.25, train_loss=3.55]  "
     ]
    },
    {
     "name": "stdout",
     "output_type": "stream",
     "text": [
      "\t - Recall@20 epoch 37: 0.187500\n",
      "\t - MRR@20    epoch 37: 0.049777\n",
      "\n"
     ]
    },
    {
     "name": "stderr",
     "output_type": "stream",
     "text": [
      "Train:  86%|████████▋ | 460/533 [00:02<00:00, 192.97it/s, accuracy=0.156, train_loss=4.19] \n",
      "Evaluation:   2%|▏         | 1/54 [00:00<00:05,  9.87it/s]\n",
      "Train:   0%|          | 0/533 [00:00<?, ?it/s, accuracy=0.0938, train_loss=4.59]"
     ]
    },
    {
     "name": "stdout",
     "output_type": "stream",
     "text": [
      "\t - Recall@20 epoch 38: 0.187500\n",
      "\t - MRR@20    epoch 38: 0.051916\n",
      "\n"
     ]
    },
    {
     "name": "stderr",
     "output_type": "stream",
     "text": [
      "Train:  86%|████████▋ | 460/533 [00:02<00:00, 190.58it/s, accuracy=0.188, train_loss=4.58] \n",
      "Evaluation:   2%|▏         | 1/54 [00:00<00:05, 10.30it/s]\n",
      "Train:   0%|          | 0/533 [00:00<?, ?it/s, accuracy=0.312, train_loss=3.79] "
     ]
    },
    {
     "name": "stdout",
     "output_type": "stream",
     "text": [
      "\t - Recall@20 epoch 39: 0.187500\n",
      "\t - MRR@20    epoch 39: 0.052968\n",
      "\n"
     ]
    },
    {
     "name": "stderr",
     "output_type": "stream",
     "text": [
      "Train:  86%|████████▋ | 460/533 [00:02<00:00, 189.52it/s, accuracy=0.156, train_loss=4.58] \n",
      "Evaluation:   2%|▏         | 1/54 [00:00<00:06,  8.10it/s]\n",
      "Train:   0%|          | 0/533 [00:00<?, ?it/s, accuracy=0.219, train_loss=4.09] "
     ]
    },
    {
     "name": "stdout",
     "output_type": "stream",
     "text": [
      "\t - Recall@20 epoch 40: 0.156250\n",
      "\t - MRR@20    epoch 40: 0.055826\n",
      "\n"
     ]
    },
    {
     "name": "stderr",
     "output_type": "stream",
     "text": [
      "Train:  86%|████████▋ | 460/533 [00:02<00:00, 186.69it/s, accuracy=0.125, train_loss=4.64] \n",
      "Evaluation:   2%|▏         | 1/54 [00:00<00:05,  9.90it/s]\n",
      "Train:   0%|          | 0/533 [00:00<?, ?it/s, accuracy=0.344, train_loss=3.35] "
     ]
    },
    {
     "name": "stdout",
     "output_type": "stream",
     "text": [
      "\t - Recall@20 epoch 41: 0.125000\n",
      "\t - MRR@20    epoch 41: 0.054167\n",
      "\n"
     ]
    },
    {
     "name": "stderr",
     "output_type": "stream",
     "text": [
      "Train:  86%|████████▋ | 460/533 [00:02<00:00, 188.11it/s, accuracy=0.219, train_loss=4.04] \n",
      "Evaluation:   2%|▏         | 1/54 [00:00<00:05,  9.36it/s]\n",
      "Train:   0%|          | 0/533 [00:00<?, ?it/s, accuracy=0.0938, train_loss=4.02]"
     ]
    },
    {
     "name": "stdout",
     "output_type": "stream",
     "text": [
      "\t - Recall@20 epoch 42: 0.125000\n",
      "\t - MRR@20    epoch 42: 0.054315\n",
      "\n"
     ]
    },
    {
     "name": "stderr",
     "output_type": "stream",
     "text": [
      "Train:  86%|████████▋ | 460/533 [00:02<00:00, 189.48it/s, accuracy=0.281, train_loss=3.81] \n",
      "Evaluation:   2%|▏         | 1/54 [00:00<00:05, 10.14it/s]\n",
      "Train:   0%|          | 0/533 [00:00<?, ?it/s, accuracy=0.125, train_loss=4.02] "
     ]
    },
    {
     "name": "stdout",
     "output_type": "stream",
     "text": [
      "\t - Recall@20 epoch 43: 0.125000\n",
      "\t - MRR@20    epoch 43: 0.050149\n",
      "\n"
     ]
    },
    {
     "name": "stderr",
     "output_type": "stream",
     "text": [
      "Train:  86%|████████▋ | 460/533 [00:02<00:00, 200.94it/s, accuracy=0.219, train_loss=3.71] \n",
      "Evaluation:   2%|▏         | 1/54 [00:00<00:05,  9.22it/s]\n",
      "Train:   0%|          | 0/533 [00:00<?, ?it/s, accuracy=0.156, train_loss=3.8]  "
     ]
    },
    {
     "name": "stdout",
     "output_type": "stream",
     "text": [
      "\t - Recall@20 epoch 44: 0.125000\n",
      "\t - MRR@20    epoch 44: 0.039732\n",
      "\n"
     ]
    },
    {
     "name": "stderr",
     "output_type": "stream",
     "text": [
      "Train:  86%|████████▋ | 460/533 [00:02<00:00, 195.70it/s, accuracy=0.219, train_loss=3.91] \n",
      "Evaluation:   2%|▏         | 1/54 [00:00<00:05, 10.06it/s]\n",
      "Train:   0%|          | 0/533 [00:00<?, ?it/s, accuracy=0.375, train_loss=3.07] "
     ]
    },
    {
     "name": "stdout",
     "output_type": "stream",
     "text": [
      "\t - Recall@20 epoch 45: 0.125000\n",
      "\t - MRR@20    epoch 45: 0.034696\n",
      "\n"
     ]
    },
    {
     "name": "stderr",
     "output_type": "stream",
     "text": [
      "Train:  86%|████████▋ | 460/533 [00:02<00:00, 193.59it/s, accuracy=0.25, train_loss=3.86]  \n",
      "Evaluation:   2%|▏         | 1/54 [00:00<00:05,  9.90it/s]\n",
      "Train:   0%|          | 0/533 [00:00<?, ?it/s, accuracy=0.156, train_loss=4.23] "
     ]
    },
    {
     "name": "stdout",
     "output_type": "stream",
     "text": [
      "\t - Recall@20 epoch 46: 0.125000\n",
      "\t - MRR@20    epoch 46: 0.034696\n",
      "\n"
     ]
    },
    {
     "name": "stderr",
     "output_type": "stream",
     "text": [
      "Train:  86%|████████▋ | 460/533 [00:02<00:00, 193.56it/s, accuracy=0.188, train_loss=4.13] \n",
      "Evaluation:   2%|▏         | 1/54 [00:00<00:05,  9.76it/s]\n",
      "Train:   0%|          | 0/533 [00:00<?, ?it/s, accuracy=0.344, train_loss=3.44] "
     ]
    },
    {
     "name": "stdout",
     "output_type": "stream",
     "text": [
      "\t - Recall@20 epoch 47: 0.125000\n",
      "\t - MRR@20    epoch 47: 0.032910\n",
      "\n"
     ]
    },
    {
     "name": "stderr",
     "output_type": "stream",
     "text": [
      "Train:  86%|████████▋ | 460/533 [00:02<00:00, 193.39it/s, accuracy=0.25, train_loss=4.18]  \n",
      "Evaluation:   2%|▏         | 1/54 [00:00<00:05,  9.89it/s]\n",
      "Train:   0%|          | 0/533 [00:00<?, ?it/s, accuracy=0.375, train_loss=3.12]"
     ]
    },
    {
     "name": "stdout",
     "output_type": "stream",
     "text": [
      "\t - Recall@20 epoch 48: 0.125000\n",
      "\t - MRR@20    epoch 48: 0.032738\n",
      "\n"
     ]
    },
    {
     "name": "stderr",
     "output_type": "stream",
     "text": [
      "Train:  86%|████████▋ | 460/533 [00:02<00:00, 193.18it/s, accuracy=0.219, train_loss=4.1]  \n",
      "Evaluation:   2%|▏         | 1/54 [00:00<00:05,  9.59it/s]\n",
      "Train:   0%|          | 0/533 [00:00<?, ?it/s, accuracy=0.219, train_loss=3.83] "
     ]
    },
    {
     "name": "stdout",
     "output_type": "stream",
     "text": [
      "\t - Recall@20 epoch 49: 0.125000\n",
      "\t - MRR@20    epoch 49: 0.032352\n",
      "\n"
     ]
    },
    {
     "name": "stderr",
     "output_type": "stream",
     "text": [
      "Train:  86%|████████▋ | 460/533 [00:02<00:00, 191.27it/s, accuracy=0.281, train_loss=3.89] \n",
      "Evaluation:   2%|▏         | 1/54 [00:00<00:05, 10.39it/s]"
     ]
    },
    {
     "name": "stdout",
     "output_type": "stream",
     "text": [
      "\t - Recall@20 epoch 50: 0.125000\n",
      "\t - MRR@20    epoch 50: 0.032738\n",
      "\n"
     ]
    },
    {
     "name": "stderr",
     "output_type": "stream",
     "text": [
      "\n"
     ]
    }
   ],
   "source": [
    "train_model(model, args)"
   ]
  },
  {
   "cell_type": "code",
   "execution_count": 83,
   "metadata": {
    "scrolled": true
   },
   "outputs": [
    {
     "name": "stderr",
     "output_type": "stream",
     "text": [
      "Evaluation:   6%|▌         | 1/17 [00:00<00:02,  7.22it/s]"
     ]
    },
    {
     "name": "stdout",
     "output_type": "stream",
     "text": [
      "\t - Recall@20: 0.218750\n",
      "\t - MRR@20: 0.050928\n",
      "\n"
     ]
    },
    {
     "name": "stderr",
     "output_type": "stream",
     "text": [
      "\n"
     ]
    }
   ],
   "source": [
    "def test_model(model, args, test):\n",
    "    test_recall, test_mrr = get_metrics(test, model, args, 32)\n",
    "    print(f\"\\t - Recall@{args.k}: {test_recall:3f}\")\n",
    "    print(f\"\\t - MRR@{args.k}: {test_mrr:3f}\\n\")\n",
    "\n",
    "test_model(model, args, test)"
   ]
  },
  {
   "cell_type": "markdown",
   "metadata": {},
   "source": [
    "### 정리\n",
    "  \n",
    "토이프로젝트에 사용된 데이터셋은 UserId와 영화 정보와 그리고 영화에 대한 평점이다.  \n",
    "그리고 이 데이터셋에 Time column으로 UTC 타입의 시간 정보가 주어져있다.  \n",
    "동일한 시간에 여러 영화에 대해 평점을 매긴 userid도 있기때문에 Time이 어떤 기준으로 정의 된건지  \n",
    "이해하기 어려움이 있었다. 넷플릭스 처럼 한 아이디로 동시접속이 가능한건지 아니면 어떤 오차에 의해서  \n",
    "근소한 시간차이가 같은 시간으로 입력된 것인지 모르겠지만, 일단 이상치로 판단하지 않고 그대로 학습에  \n",
    "사용하였다.  \n",
    "  \n",
    "노드 예시에서 세션과 무비렌즈 데이터에서 유저 정보를 비교해 보면  \n",
    "세션Id에서는 익명의 사용자가 웹 상에서 행동한 활동들이 기록되는 것이었고,  \n",
    "유저Id는 특정 사용자가 영화에 평점을 매긴 정보들이 저장되어 있다.  \n",
    "  \n",
    "시간에 따른 세션Id의 활동을 plot해보면 일정 시간이 지나면 새로운 세션들이 생성되는 것을 볼 수 있다.  \n",
    "반면 무비렌즈에서 UserId를 시간에 따라 plot 해보면 UserId가 등장한 부터는 전 구간에 비교적 꾸준히 고르게  \n",
    "활동이 나타난다. 물론 특징은 활동을 최초로 시작한 시점에서 최근으로 갈 수록 활동의 빈도가 점점 줄어든다는 경향성이보이고 있다.  \n",
    "  \n",
    "이번에 사용할 모델의 목적은 최근의 활동들을 파악해 item을 추천하는 추천시스템을 구축하는 것이다.  \n",
    "데이터셋 구성을 학습용은 30일 정도, 검증용은 2일, 테스트용은 2일 정도로 잡아서 비율을 맞춰주었다.  \n",
    "이때 최근날짜를 기준으로 데이터셋을 구성하면 검증, 테스트 데이터셋의 절대적인 양이 작기때문에  \n",
    "데이터의 초반 날짜 중에서 활동 로그가 많이 남아있는 기간을 찾은 다음 그 기간안에서 데이터셋을 나누었다.  \n",
    "  \n",
    "개별 UserId를 하나의 세션으로 정의하였다. 그 이유는 기존에 우리가 알고 있는Session의 정의와 다르게 UserId는 독립적인 한 사람으로 생각할 수 있고 특정 기준(예를 들면 한달 단위로)으로 userId를 묶어서 하나의 세션으로 정의하는 등의 개인의 정보를 집합으로 묶어버리면서 생기는 정보손실이 클 것이라 판단하였기 때문이다.  \n",
    "  \n",
    "배치사이즈는 validation set의 UserId 수 보다 작게 하여야 에러없이 학습이 진행되기 때문에 32로 설정하고 epoch은 50으로 수행하였다.  \n",
    "  \n",
    "날짜를 다양한 구간으로 잡아보기도 하고, 배치사이즈나 에폭같은 하이퍼파라미터를 조절해보기도 하며 모델의 학습 성능을 관찰 하였다."
   ]
  },
  {
   "cell_type": "code",
   "execution_count": null,
   "metadata": {},
   "outputs": [],
   "source": []
  }
 ],
 "metadata": {
  "kernelspec": {
   "display_name": "Python 3",
   "language": "python",
   "name": "python3"
  },
  "language_info": {
   "codemirror_mode": {
    "name": "ipython",
    "version": 3
   },
   "file_extension": ".py",
   "mimetype": "text/x-python",
   "name": "python",
   "nbconvert_exporter": "python",
   "pygments_lexer": "ipython3",
   "version": "3.7.6"
  }
 },
 "nbformat": 4,
 "nbformat_minor": 4
}
