{
 "cells": [
  {
   "cell_type": "markdown",
   "metadata": {},
   "source": [
    "# CutMix 성능 평가 실험하기\n",
    "  \n",
    "## 1. CutMix를 적용한 데이터셋 만들기\n"
   ]
  },
  {
   "cell_type": "code",
   "execution_count": 1,
   "metadata": {},
   "outputs": [],
   "source": [
    "import urllib3\n",
    "import tensorflow_datasets as tfds\n",
    "import tensorflow as tf\n",
    "\n",
    "import matplotlib.pyplot as plt\n",
    "import numpy as np\n",
    "\n",
    "from Data_Aug import data_augmentation\n",
    "from model import Model"
   ]
  },
  {
   "cell_type": "code",
   "execution_count": 2,
   "metadata": {},
   "outputs": [],
   "source": [
    "def get_data(data_name='stanford_dogs', show_ex = False):\n",
    "    '''\n",
    "    tfds에서 제공하는 데이터셋\n",
    "    https://www.tensorflow.org/datasets/overview\n",
    "    '''\n",
    "    urllib3.disable_warnings()\n",
    "    (ds_train, ds_test), ds_info = tfds.load(data_name,\n",
    "                                             split=['train','test'],\n",
    "                                             as_supervised=True,\n",
    "                                             shuffle_files=True,\n",
    "                                             with_info=True,)\n",
    "    if show_ex:\n",
    "        fig = tfds.show_examples(ds_train,ds_info)\n",
    "\n",
    "    return (ds_train, ds_test), ds_info"
   ]
  },
  {
   "cell_type": "code",
   "execution_count": 3,
   "metadata": {},
   "outputs": [
    {
     "data": {
      "text/plain": [
       "[PhysicalDevice(name='/physical_device:GPU:0', device_type='GPU')]"
      ]
     },
     "execution_count": 3,
     "metadata": {},
     "output_type": "execute_result"
    }
   ],
   "source": [
    "#GPU 체크\n",
    "tf.config.set_soft_device_placement(True)\n",
    "tf.config.list_physical_devices('GPU')"
   ]
  },
  {
   "cell_type": "code",
   "execution_count": 4,
   "metadata": {},
   "outputs": [
    {
     "name": "stdout",
     "output_type": "stream",
     "text": [
      "\u001b[1mDownloading and preparing dataset 778.12 MiB (download: 778.12 MiB, generated: Unknown size, total: 778.12 MiB) to /home/aiffel0042/tensorflow_datasets/stanford_dogs/0.2.0...\u001b[0m\n"
     ]
    },
    {
     "data": {
      "application/vnd.jupyter.widget-view+json": {
       "model_id": "3a606c112ad54b3284ea31c47a9ea7d6",
       "version_major": 2,
       "version_minor": 0
      },
      "text/plain": [
       "Dl Completed...: 0 url [00:00, ? url/s]"
      ]
     },
     "metadata": {},
     "output_type": "display_data"
    },
    {
     "data": {
      "application/vnd.jupyter.widget-view+json": {
       "model_id": "1d45f83f31774386a662220a30bb26f1",
       "version_major": 2,
       "version_minor": 0
      },
      "text/plain": [
       "Dl Size...: 0 MiB [00:00, ? MiB/s]"
      ]
     },
     "metadata": {},
     "output_type": "display_data"
    },
    {
     "name": "stdout",
     "output_type": "stream",
     "text": [
      "\n",
      "\n"
     ]
    },
    {
     "data": {
      "application/vnd.jupyter.widget-view+json": {
       "model_id": "baefa9da82f143e5a910742c264809ff",
       "version_major": 2,
       "version_minor": 0
      },
      "text/plain": [
       "Dl Completed...: 0 url [00:00, ? url/s]"
      ]
     },
     "metadata": {},
     "output_type": "display_data"
    },
    {
     "data": {
      "application/vnd.jupyter.widget-view+json": {
       "model_id": "70d696be2c874899967ee3312da73084",
       "version_major": 2,
       "version_minor": 0
      },
      "text/plain": [
       "Dl Size...: 0 MiB [00:00, ? MiB/s]"
      ]
     },
     "metadata": {},
     "output_type": "display_data"
    },
    {
     "data": {
      "application/vnd.jupyter.widget-view+json": {
       "model_id": "82cf76cd4bdc4eea8994ed0b9d7b3439",
       "version_major": 2,
       "version_minor": 0
      },
      "text/plain": [
       "Extraction completed...: 0 file [00:00, ? file/s]"
      ]
     },
     "metadata": {},
     "output_type": "display_data"
    },
    {
     "name": "stdout",
     "output_type": "stream",
     "text": [
      "\n",
      "\n",
      "\n"
     ]
    },
    {
     "data": {
      "application/vnd.jupyter.widget-view+json": {
       "model_id": "",
       "version_major": 2,
       "version_minor": 0
      },
      "text/plain": [
       "Generating splits...:   0%|          | 0/2 [00:00<?, ? splits/s]"
      ]
     },
     "metadata": {},
     "output_type": "display_data"
    },
    {
     "data": {
      "application/vnd.jupyter.widget-view+json": {
       "model_id": "",
       "version_major": 2,
       "version_minor": 0
      },
      "text/plain": [
       "Generating train examples...:   0%|          | 0/12000 [00:00<?, ? examples/s]"
      ]
     },
     "metadata": {},
     "output_type": "display_data"
    },
    {
     "data": {
      "application/vnd.jupyter.widget-view+json": {
       "model_id": "",
       "version_major": 2,
       "version_minor": 0
      },
      "text/plain": [
       "Shuffling stanford_dogs-train.tfrecord...:   0%|          | 0/12000 [00:00<?, ? examples/s]"
      ]
     },
     "metadata": {},
     "output_type": "display_data"
    },
    {
     "data": {
      "application/vnd.jupyter.widget-view+json": {
       "model_id": "",
       "version_major": 2,
       "version_minor": 0
      },
      "text/plain": [
       "Generating test examples...:   0%|          | 0/8580 [00:00<?, ? examples/s]"
      ]
     },
     "metadata": {},
     "output_type": "display_data"
    },
    {
     "data": {
      "application/vnd.jupyter.widget-view+json": {
       "model_id": "",
       "version_major": 2,
       "version_minor": 0
      },
      "text/plain": [
       "Shuffling stanford_dogs-test.tfrecord...:   0%|          | 0/8580 [00:00<?, ? examples/s]"
      ]
     },
     "metadata": {},
     "output_type": "display_data"
    },
    {
     "name": "stdout",
     "output_type": "stream",
     "text": [
      "\u001b[1mDataset stanford_dogs downloaded and prepared to /home/aiffel0042/tensorflow_datasets/stanford_dogs/0.2.0. Subsequent calls will reuse this data.\u001b[0m\n"
     ]
    }
   ],
   "source": [
    "#데이터불러오기\n",
    "(ds_train, ds_test), ds_info = get_data('stanford_dogs', show_ex=False)\n",
    "data_aug = data_augmentation(ds_info)"
   ]
  },
  {
   "cell_type": "markdown",
   "metadata": {},
   "source": [
    "## 2. 모델 구성하기\n",
    "---\n",
    "Augmentation이 적용된 데이터와 적용되지 않은 데이터를 가지고 실험하기위해  \n",
    "두 데이터셋에 동일한 모델을 적용시켜야한다.  \n",
    "이 project에서는 ResNet-50을 사용한다."
   ]
  },
  {
   "cell_type": "code",
   "execution_count": 5,
   "metadata": {},
   "outputs": [],
   "source": [
    "#데이터셋 구성하기\n",
    "ds_train_pure = data_aug.apply_normalize_on_dataset(ds_train,\n",
    "                                                    is_test=False,\n",
    "                                                    batch_size=16,\n",
    "                                                    with_aug=False,\n",
    "                                                    with_cutmix=False)\n",
    "ds_train_aug_only = data_aug.apply_normalize_on_dataset(ds_train,\n",
    "                                                        is_test=False,\n",
    "                                                        batch_size=16,\n",
    "                                                        with_aug=True,\n",
    "                                                        with_cutmix=False)\n",
    "ds_train_cutmix_only = data_aug.apply_normalize_on_dataset(ds_train,\n",
    "                                                           is_test=False,\n",
    "                                                           batch_size=16,\n",
    "                                                           with_aug=False,\n",
    "                                                           with_cutmix=True)\n",
    "ds_train_aug_cutmix = data_aug.apply_normalize_on_dataset(ds_train,\n",
    "                                                          is_test=False,\n",
    "                                                          batch_size=16,\n",
    "                                                          with_aug=True,\n",
    "                                                          with_cutmix=False)"
   ]
  },
  {
   "cell_type": "code",
   "execution_count": 6,
   "metadata": {},
   "outputs": [
    {
     "data": {
      "text/plain": [
       "<PrefetchDataset shapes: ((None, 224, 224, 3), (None, 120)), types: (tf.float32, tf.float32)>"
      ]
     },
     "execution_count": 6,
     "metadata": {},
     "output_type": "execute_result"
    }
   ],
   "source": [
    "ds_train_aug_only"
   ]
  },
  {
   "cell_type": "code",
   "execution_count": 7,
   "metadata": {},
   "outputs": [
    {
     "data": {
      "text/plain": [
       "<PrefetchDataset shapes: ((16, 224, 224, 3), (16, 120)), types: (tf.float32, tf.float32)>"
      ]
     },
     "execution_count": 7,
     "metadata": {},
     "output_type": "execute_result"
    }
   ],
   "source": [
    "ds_train_cutmix_only"
   ]
  },
  {
   "cell_type": "code",
   "execution_count": 8,
   "metadata": {},
   "outputs": [],
   "source": [
    "#ds_train_mixup_only\n",
    "#ds_train_aug_mixup\n",
    "ds_test = data_aug.apply_normalize_on_dataset(ds_test,is_test=True,\n",
    "                                              batch_size=16)\n",
    "model_without_mix = Model(with_mix=False, ds_info=ds_info)\n",
    "model_with_mix = Model(with_mix=True, ds_info=ds_info)"
   ]
  },
  {
   "cell_type": "code",
   "execution_count": 9,
   "metadata": {},
   "outputs": [],
   "source": [
    "resnet_with_pure = model_without_mix.model_setting(show_summary=False)\n",
    "resnet_with_aug_only = model_without_mix.model_setting(show_summary=False)\n",
    "resnet_with_cutmix_only = model_with_mix.model_setting(show_summary=False)\n",
    "resnet_with_aug_cutmix = model_with_mix.model_setting(show_summary=False)"
   ]
  },
  {
   "cell_type": "markdown",
   "metadata": {},
   "source": [
    "## 3. 모델 훈련하기"
   ]
  },
  {
   "cell_type": "code",
   "execution_count": 10,
   "metadata": {},
   "outputs": [
    {
     "name": "stdout",
     "output_type": "stream",
     "text": [
      "750\n",
      "536\n"
     ]
    }
   ],
   "source": [
    "from tensorflow.keras.callbacks import EarlyStopping\n",
    "es = EarlyStopping(monitor='val_loss',patience=3,verbose=1,mode='min')\n",
    "EPOCHS = 15\n",
    "steps_per_epoch = int(ds_info.splits['train'].num_examples/16)\n",
    "validation_steps = int(ds_info.splits['test'].num_examples/16)\n",
    "\n",
    "print(steps_per_epoch)\n",
    "print(validation_steps)"
   ]
  },
  {
   "cell_type": "markdown",
   "metadata": {},
   "source": [
    "#### resnet_with_pure\n",
    "- model : ResNet50  \n",
    "- Augmentation state : pure"
   ]
  },
  {
   "cell_type": "markdown",
   "metadata": {},
   "source": [
    "### 순수 data"
   ]
  },
  {
   "cell_type": "code",
   "execution_count": 11,
   "metadata": {},
   "outputs": [
    {
     "name": "stdout",
     "output_type": "stream",
     "text": [
      "Epoch 1/15\n",
      "  2/750 [..............................] - ETA: 53s - loss: 5.2432 - accuracy: 0.0000e+00WARNING:tensorflow:Callbacks method `on_train_batch_end` is slow compared to the batch time (batch time: 0.0569s vs `on_train_batch_end` time: 0.0854s). Check your callbacks.\n"
     ]
    },
    {
     "name": "stderr",
     "output_type": "stream",
     "text": [
      "WARNING:tensorflow:Callbacks method `on_train_batch_end` is slow compared to the batch time (batch time: 0.0569s vs `on_train_batch_end` time: 0.0854s). Check your callbacks.\n"
     ]
    },
    {
     "name": "stdout",
     "output_type": "stream",
     "text": [
      "750/750 [==============================] - 111s 149ms/step - loss: 2.2133 - accuracy: 0.4446 - val_loss: 3.3643 - val_accuracy: 0.1995\n",
      "Epoch 2/15\n",
      "750/750 [==============================] - 109s 146ms/step - loss: 0.7982 - accuracy: 0.7754 - val_loss: 1.0457 - val_accuracy: 0.6875\n",
      "Epoch 3/15\n",
      "750/750 [==============================] - 110s 146ms/step - loss: 0.2875 - accuracy: 0.9350 - val_loss: 0.9810 - val_accuracy: 0.7129\n",
      "Epoch 4/15\n",
      "750/750 [==============================] - 110s 146ms/step - loss: 0.0987 - accuracy: 0.9872 - val_loss: 0.9022 - val_accuracy: 0.7400\n",
      "Epoch 5/15\n",
      "750/750 [==============================] - 110s 146ms/step - loss: 0.0395 - accuracy: 0.9966 - val_loss: 0.9219 - val_accuracy: 0.7399\n",
      "Epoch 6/15\n",
      "750/750 [==============================] - 110s 146ms/step - loss: 0.0279 - accuracy: 0.9982 - val_loss: 0.9276 - val_accuracy: 0.7400\n",
      "Epoch 7/15\n",
      "750/750 [==============================] - 112s 149ms/step - loss: 0.0153 - accuracy: 0.9996 - val_loss: 0.9393 - val_accuracy: 0.7420\n",
      "Epoch 00007: early stopping\n"
     ]
    }
   ],
   "source": [
    "#resnet_with_pure model\n",
    "history_resnet_with_pure = resnet_with_pure.fit(ds_train_pure,\n",
    "                                               steps_per_epoch=steps_per_epoch,\n",
    "                                               validation_steps=validation_steps,\n",
    "                                               epochs=EPOCHS,\n",
    "                                               validation_data=ds_test,\n",
    "                                               verbose=1,\n",
    "                                               callbacks=[es],\n",
    "                                               use_multiprocessing=True)"
   ]
  },
  {
   "cell_type": "markdown",
   "metadata": {},
   "source": [
    "### 기본 Augmentation 적용"
   ]
  },
  {
   "cell_type": "code",
   "execution_count": 12,
   "metadata": {},
   "outputs": [
    {
     "name": "stdout",
     "output_type": "stream",
     "text": [
      "Epoch 1/15\n",
      "750/750 [==============================] - 111s 148ms/step - loss: 2.2269 - accuracy: 0.4410 - val_loss: 2.8032 - val_accuracy: 0.3082\n",
      "Epoch 2/15\n",
      "750/750 [==============================] - 112s 150ms/step - loss: 0.9543 - accuracy: 0.7301 - val_loss: 1.4258 - val_accuracy: 0.5947\n",
      "Epoch 3/15\n",
      "750/750 [==============================] - 111s 148ms/step - loss: 0.5272 - accuracy: 0.8549 - val_loss: 1.1070 - val_accuracy: 0.6860\n",
      "Epoch 4/15\n",
      "750/750 [==============================] - 112s 150ms/step - loss: 0.3226 - accuracy: 0.9164 - val_loss: 1.0216 - val_accuracy: 0.7074\n",
      "Epoch 5/15\n",
      "750/750 [==============================] - 113s 151ms/step - loss: 0.2071 - accuracy: 0.9509 - val_loss: 1.1375 - val_accuracy: 0.6824\n",
      "Epoch 6/15\n",
      "750/750 [==============================] - 112s 150ms/step - loss: 0.1118 - accuracy: 0.9787 - val_loss: 0.9975 - val_accuracy: 0.7262\n",
      "Epoch 7/15\n",
      "750/750 [==============================] - 112s 149ms/step - loss: 0.0585 - accuracy: 0.9919 - val_loss: 0.9387 - val_accuracy: 0.7408\n",
      "Epoch 8/15\n",
      "750/750 [==============================] - 110s 147ms/step - loss: 0.0395 - accuracy: 0.9949 - val_loss: 0.9692 - val_accuracy: 0.7334\n",
      "Epoch 9/15\n",
      "750/750 [==============================] - 112s 149ms/step - loss: 0.0234 - accuracy: 0.9977 - val_loss: 0.9622 - val_accuracy: 0.7460\n",
      "Epoch 10/15\n",
      "750/750 [==============================] - 111s 148ms/step - loss: 0.0229 - accuracy: 0.9981 - val_loss: 0.9593 - val_accuracy: 0.7450\n",
      "Epoch 00010: early stopping\n"
     ]
    }
   ],
   "source": [
    "#resnet_with_aug_only model\n",
    "history_resnet_with_aug_only = resnet_with_aug_only.fit(ds_train_aug_only,\n",
    "                                               steps_per_epoch=steps_per_epoch,\n",
    "                                               validation_steps=validation_steps,\n",
    "                                               epochs=EPOCHS,\n",
    "                                               validation_data=ds_test,\n",
    "                                               verbose=1,\n",
    "                                               callbacks=[es],\n",
    "                                               use_multiprocessing=True)"
   ]
  },
  {
   "cell_type": "markdown",
   "metadata": {},
   "source": [
    "### Cutmix only"
   ]
  },
  {
   "cell_type": "code",
   "execution_count": 13,
   "metadata": {},
   "outputs": [
    {
     "name": "stdout",
     "output_type": "stream",
     "text": [
      "Epoch 1/15\n",
      "  2/750 [..............................] - ETA: 49s - loss: 5.0762 - accuracy: 0.0312   WARNING:tensorflow:Callbacks method `on_train_batch_end` is slow compared to the batch time (batch time: 0.0518s vs `on_train_batch_end` time: 0.0798s). Check your callbacks.\n"
     ]
    },
    {
     "name": "stderr",
     "output_type": "stream",
     "text": [
      "WARNING:tensorflow:Callbacks method `on_train_batch_end` is slow compared to the batch time (batch time: 0.0518s vs `on_train_batch_end` time: 0.0798s). Check your callbacks.\n"
     ]
    },
    {
     "name": "stdout",
     "output_type": "stream",
     "text": [
      "750/750 [==============================] - 113s 151ms/step - loss: 3.8266 - accuracy: 0.2163 - val_loss: 3.3230 - val_accuracy: 0.2199\n",
      "Epoch 2/15\n",
      "750/750 [==============================] - 113s 151ms/step - loss: 2.9239 - accuracy: 0.4345 - val_loss: 1.5553 - val_accuracy: 0.5682\n",
      "Epoch 3/15\n",
      "750/750 [==============================] - 114s 151ms/step - loss: 2.6444 - accuracy: 0.5130 - val_loss: 1.2455 - val_accuracy: 0.6522\n",
      "Epoch 4/15\n",
      "750/750 [==============================] - 116s 154ms/step - loss: 2.4184 - accuracy: 0.5982 - val_loss: 1.1421 - val_accuracy: 0.6848\n",
      "Epoch 5/15\n",
      "750/750 [==============================] - 113s 151ms/step - loss: 2.2742 - accuracy: 0.6395 - val_loss: 1.2446 - val_accuracy: 0.6531\n",
      "Epoch 6/15\n",
      "750/750 [==============================] - 113s 151ms/step - loss: 2.1851 - accuracy: 0.6647 - val_loss: 1.1824 - val_accuracy: 0.6806\n",
      "Epoch 7/15\n",
      "750/750 [==============================] - 115s 153ms/step - loss: 2.0709 - accuracy: 0.7067 - val_loss: 1.2792 - val_accuracy: 0.6660\n",
      "Epoch 00007: early stopping\n"
     ]
    }
   ],
   "source": [
    "#resnet_with_cutmix_only model\n",
    "history_resnet_with_cutmix_only = resnet_with_cutmix_only.fit(ds_train_cutmix_only,\n",
    "                                               steps_per_epoch=steps_per_epoch,\n",
    "                                               validation_steps=validation_steps,\n",
    "                                               epochs=EPOCHS,\n",
    "                                               validation_data=ds_test,\n",
    "                                               verbose=1,\n",
    "                                               callbacks=[es],\n",
    "                                               )"
   ]
  },
  {
   "cell_type": "markdown",
   "metadata": {},
   "source": [
    "### Aug + Cutmix"
   ]
  },
  {
   "cell_type": "code",
   "execution_count": 14,
   "metadata": {},
   "outputs": [
    {
     "name": "stdout",
     "output_type": "stream",
     "text": [
      "Epoch 1/15\n",
      "750/750 [==============================] - 110s 146ms/step - loss: 2.2218 - accuracy: 0.4469 - val_loss: 2.5261 - val_accuracy: 0.3577\n",
      "Epoch 2/15\n",
      "750/750 [==============================] - 110s 146ms/step - loss: 0.9476 - accuracy: 0.7241 - val_loss: 1.2937 - val_accuracy: 0.6248\n",
      "Epoch 3/15\n",
      "750/750 [==============================] - 110s 146ms/step - loss: 0.5234 - accuracy: 0.8566 - val_loss: 1.1339 - val_accuracy: 0.6736\n",
      "Epoch 4/15\n",
      "750/750 [==============================] - 110s 146ms/step - loss: 0.2781 - accuracy: 0.9308 - val_loss: 1.0405 - val_accuracy: 0.7018\n",
      "Epoch 5/15\n",
      "750/750 [==============================] - 110s 146ms/step - loss: 0.1639 - accuracy: 0.9661 - val_loss: 1.0204 - val_accuracy: 0.7162\n",
      "Epoch 6/15\n",
      "750/750 [==============================] - 110s 146ms/step - loss: 0.1252 - accuracy: 0.9745 - val_loss: 1.0791 - val_accuracy: 0.7016\n",
      "Epoch 7/15\n",
      "750/750 [==============================] - 110s 146ms/step - loss: 0.0882 - accuracy: 0.9847 - val_loss: 1.0699 - val_accuracy: 0.7114\n",
      "Epoch 8/15\n",
      "750/750 [==============================] - 110s 146ms/step - loss: 0.0626 - accuracy: 0.9893 - val_loss: 0.9877 - val_accuracy: 0.7338\n",
      "Epoch 9/15\n",
      "750/750 [==============================] - 110s 146ms/step - loss: 0.0383 - accuracy: 0.9951 - val_loss: 1.0369 - val_accuracy: 0.7309\n",
      "Epoch 10/15\n",
      "750/750 [==============================] - 110s 146ms/step - loss: 0.0308 - accuracy: 0.9961 - val_loss: 0.9744 - val_accuracy: 0.7432\n",
      "Epoch 11/15\n",
      "750/750 [==============================] - 110s 146ms/step - loss: 0.0222 - accuracy: 0.9980 - val_loss: 0.9282 - val_accuracy: 0.7559\n",
      "Epoch 12/15\n",
      "750/750 [==============================] - 110s 147ms/step - loss: 0.0194 - accuracy: 0.9981 - val_loss: 0.9978 - val_accuracy: 0.7415\n",
      "Epoch 13/15\n",
      "750/750 [==============================] - 111s 148ms/step - loss: 0.0095 - accuracy: 0.9995 - val_loss: 0.9415 - val_accuracy: 0.7572\n",
      "Epoch 14/15\n",
      "750/750 [==============================] - 111s 149ms/step - loss: 0.0100 - accuracy: 0.9990 - val_loss: 0.9730 - val_accuracy: 0.7503\n",
      "Epoch 00014: early stopping\n"
     ]
    }
   ],
   "source": [
    "#resnet_with_aug_cutmix model\n",
    "history_resnet_with_aug_cutmix = resnet_with_aug_cutmix.fit(ds_train_aug_cutmix,\n",
    "                                               steps_per_epoch=steps_per_epoch,\n",
    "                                               validation_steps=validation_steps,\n",
    "                                               epochs=EPOCHS,\n",
    "                                               validation_data=ds_test,\n",
    "                                               verbose=1,\n",
    "                                               callbacks=[es],\n",
    "                                               use_multiprocessing=True)"
   ]
  },
  {
   "cell_type": "markdown",
   "metadata": {},
   "source": [
    "## 4. 모델 결과 시각화 하기"
   ]
  },
  {
   "cell_type": "code",
   "execution_count": 20,
   "metadata": {
    "scrolled": true
   },
   "outputs": [
    {
     "data": {
      "image/png": "[encoded data removed]",
      "text/plain": [
       "<Figure size 432x288 with 1 Axes>"
      ]
     },
     "metadata": {
      "needs_background": "light"
     },
     "output_type": "display_data"
    }
   ],
   "source": [
    "plt.plot(history_resnet_with_pure.history['val_accuracy'], 'r')\n",
    "plt.plot(history_resnet_with_aug_only.history['val_accuracy'], 'g')\n",
    "plt.plot(history_resnet_with_cutmix_only.history['val_accuracy'], 'b')\n",
    "plt.plot(history_resnet_with_aug_cutmix.history['val_accuracy'], 'k')\n",
    "plt.title('Model validation accuracy')\n",
    "plt.ylabel('Accuracy')\n",
    "plt.xlabel('Epoch')\n",
    "plt.legend(['No Augmentation', 'With Augmentation', 'with cutmix', 'with all'], loc='lower right')\n",
    "plt.show()"
   ]
  },
  {
   "cell_type": "markdown",
   "metadata": {},
   "source": [
    "확대해서 plot하기"
   ]
  },
  {
   "cell_type": "code",
   "execution_count": 23,
   "metadata": {},
   "outputs": [
    {
     "data": {
      "image/png": "[encoded data removed]",
      "text/plain": [
       "<Figure size 432x288 with 1 Axes>"
      ]
     },
     "metadata": {
      "needs_background": "light"
     },
     "output_type": "display_data"
    }
   ],
   "source": [
    "resnet_with_aug_cutmix\n",
    "plt.plot(history_resnet_with_pure.history['val_accuracy'], 'r')\n",
    "plt.plot(history_resnet_with_aug_only.history['val_accuracy'], 'g')\n",
    "plt.plot(history_resnet_with_cutmix_only.history['val_accuracy'], 'b')\n",
    "plt.plot(history_resnet_with_aug_cutmix.history['val_accuracy'], 'k')\n",
    "plt.title('Model validation accuracy')\n",
    "plt.ylabel('Accuracy')\n",
    "plt.xlabel('Epoch')\n",
    "plt.legend(['No Augmentation', 'With Augmentation', 'with cutmix', 'with all'], loc='lower right')\n",
    "plt.grid(True)\n",
    "plt.ylim(0.65, 0.76)\n",
    "plt.show()"
   ]
  },
  {
   "cell_type": "markdown",
   "metadata": {},
   "source": [
    "## 5. Augmentation에 의한 모델 성능 비교\n",
    ">No Augmentation, 기본 Augmentation, 기본 + CutMix 적용, 기본 + Mixup 적용 이상 4가지 경우의 데이터셋에 대해 훈련된 ResNet50 분류기의 견종 분류 정확도 성능을 비교해 보고, Augmentation 방법들의 영향도에 대해 분석해 보세요."
   ]
  },
  {
   "cell_type": "markdown",
   "metadata": {},
   "source": [
    "이번 Augmentation toy project에 사용한 Augmentation 기법으로  \n",
    "- 기본 Augmentation : 좌우반전, 색변화 keras API  \n",
    "- Cutmix : 하나의 이미지를 랜덤 crop한 다음 다른 이미지에 합성하는 기법  \n",
    "- 기본 Augmentation + Cutmix : 기본 Augmentation과 Cutmix를 동시에 수행  \n",
    "위와 같이 총 세가지 기법을 사용하였다.  \n",
    "  \n",
    "성능 비교실험을 위하여 분류모델은 keras에서 제공하는 ResNet50을 사용하였다.  \n",
    "  \n",
    "총 4가지 데이터로 학습을 해보았다. early stopping을 적용하여 정확도가 떨어지는 것을 방지하였다.  \n",
    "  \n",
    "#### early stopping으로 끝난 epoch에서 최대 정확도를 얻을 수 있었고  \n",
    "\n",
    "- No Augmentation : 7epoch에 Val Acc : 0.7420[3rd]  \n",
    "- 기본 Augmentation : 10epoch Val Acc: 0.7450[2nd]  \n",
    "- Cutmix : 7epoch Val Acc : 0.666[4th]  \n",
    "- 기본 Augmentation + Cutmix : 14epoch Val Acc: 0.7503[1st]  \n",
    "  \n",
    "#### 최소 epoch(7epoch)일때 정확도 평가\n",
    "  \n",
    "- No Augmentation : Val Acc : 0.7420[1st]  \n",
    "- 기본 Augmentation : Val Acc: 0.7408[2nd]  \n",
    "- Cutmix : Val Acc : 0.666[4th]  \n",
    "- 기본 Augmentation + Cutmix : Val Acc: 0.7114[3rd]  \n",
    "  \n",
    "최소 epoch 기준으로는 오히려 아무런 Augmentation을 주지 않은 데이터로 학습한 모델의 성능이 더 좋았지만,  \n",
    "최적의 성능까지 학습한 모델에서는 기본 Augmentation에 cutmix까지 더하여 학습한 모델의 성능이 가장 좋게 나왔다."
   ]
  },
  {
   "cell_type": "code",
   "execution_count": null,
   "metadata": {},
   "outputs": [],
   "source": []
  }
 ],
 "metadata": {
  "kernelspec": {
   "display_name": "aiffel",
   "language": "python",
   "name": "aiffel"
  },
  "language_info": {
   "codemirror_mode": {
    "name": "ipython",
    "version": 3
   },
   "file_extension": ".py",
   "mimetype": "text/x-python",
   "name": "python",
   "nbconvert_exporter": "python",
   "pygments_lexer": "ipython3",
   "version": "3.7.9"
  }
 },
 "nbformat": 4,
 "nbformat_minor": 4
}
